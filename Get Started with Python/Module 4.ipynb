{
 "cells": [
  {
   "cell_type": "markdown",
   "metadata": {},
   "source": [
    "# Module4\n",
    "\n"
   ]
  },
  {
   "cell_type": "markdown",
   "metadata": {},
   "source": [
    "**Data Structures**\n",
    "\n",
    "Collections of data values or objects that contain different data types\n",
    "\n",
    "#### What you'll learn\n",
    "- Lists\n",
    "- Tuples\n",
    "- Dictionaries\n",
    "- Sets\n",
    "- Arrays\n",
    "----\n",
    "- Numpy\n",
    "- pandas\n",
    "\n"
   ]
  },
  {
   "cell_type": "markdown",
   "metadata": {},
   "source": [
    "## List and tuples"
   ]
  },
  {
   "cell_type": "markdown",
   "metadata": {},
   "source": [
    "### Introduction to Lists\n"
   ]
  },
  {
   "cell_type": "markdown",
   "metadata": {},
   "source": [
    "#### Data Structures\n",
    "\n",
    "##### List\n",
    "A data structure that helps store and manipulate an ordered collections of items."
   ]
  },
  {
   "cell_type": "markdown",
   "metadata": {},
   "source": [
    "| List | Strings |\n",
    "|:---: | :---: |\n",
    "| Data structure| Data type |\n",
    "| Allow duplicate elements | Allow deplicate elements |\n",
    "| Allow indexing and slicing | Allow indexing and slicing |\n",
    "| Sequences of elements | Sequences of characters |"
   ]
  },
  {
   "cell_type": "markdown",
   "metadata": {},
   "source": [
    "**Sequence**\n",
    "\n",
    "A positionally ordered collection of items.\n",
    "\n",
    "**Mutability**\n",
    "\n",
    "The ability to change the internal state of a data structure.\n",
    "\n",
    "**Immutability**\n",
    "\n",
    "A data structure or element's can never be altered or updated."
   ]
  },
  {
   "cell_type": "code",
   "execution_count": 23,
   "metadata": {},
   "outputs": [
    {
     "name": "stdout",
     "output_type": "stream",
     "text": [
      "cooking\n"
     ]
    }
   ],
   "source": [
    "x=['Now','we','are','cooking','with',7,'ingredients']\n",
    "print(x[3])"
   ]
  },
  {
   "cell_type": "code",
   "execution_count": 24,
   "metadata": {},
   "outputs": [
    {
     "data": {
      "text/plain": [
       "['we', 'are']"
      ]
     },
     "execution_count": 24,
     "metadata": {},
     "output_type": "execute_result"
    }
   ],
   "source": [
    "x[1:3]"
   ]
  },
  {
   "cell_type": "code",
   "execution_count": 25,
   "metadata": {},
   "outputs": [
    {
     "data": {
      "text/plain": [
       "['Now', 'we']"
      ]
     },
     "execution_count": 25,
     "metadata": {},
     "output_type": "execute_result"
    }
   ],
   "source": [
    "x[:2]"
   ]
  },
  {
   "cell_type": "code",
   "execution_count": 26,
   "metadata": {},
   "outputs": [
    {
     "data": {
      "text/plain": [
       "list"
      ]
     },
     "execution_count": 26,
     "metadata": {},
     "output_type": "execute_result"
    }
   ],
   "source": [
    "type(x)"
   ]
  },
  {
   "cell_type": "code",
   "execution_count": 27,
   "metadata": {},
   "outputs": [
    {
     "data": {
      "text/plain": [
       "True"
      ]
     },
     "execution_count": 27,
     "metadata": {},
     "output_type": "execute_result"
    }
   ],
   "source": [
    "'we' in x"
   ]
  },
  {
   "cell_type": "markdown",
   "metadata": {},
   "source": [
    "### Modify the contents of a list"
   ]
  },
  {
   "cell_type": "markdown",
   "metadata": {},
   "source": [
    "```\n",
    "append()\n",
    "```\n",
    "Method that adds an element to the end of a list"
   ]
  },
  {
   "cell_type": "code",
   "execution_count": 28,
   "metadata": {},
   "outputs": [
    {
     "name": "stdout",
     "output_type": "stream",
     "text": [
      "['pineapple', 'banana', 'apple', 'melon']\n"
     ]
    }
   ],
   "source": [
    "fruits=['pineapple','banana','apple','melon']\n",
    "print(fruits)"
   ]
  },
  {
   "cell_type": "code",
   "execution_count": 29,
   "metadata": {},
   "outputs": [
    {
     "name": "stdout",
     "output_type": "stream",
     "text": [
      "['pineapple', 'banana', 'apple', 'melon', 'kiwi']\n"
     ]
    }
   ],
   "source": [
    "fruits.append('kiwi')\n",
    "print(fruits)"
   ]
  },
  {
   "cell_type": "markdown",
   "metadata": {},
   "source": [
    "```\n",
    "insert()\n",
    "```\n",
    "Function that takes an index as the first paramater and an element as the second paramater., then inserts the element into a list at the given index.\n"
   ]
  },
  {
   "cell_type": "code",
   "execution_count": 31,
   "metadata": {},
   "outputs": [
    {
     "name": "stdout",
     "output_type": "stream",
     "text": [
      "['pineapple', 'orange', 'orange', 'banana', 'apple', 'melon', 'kiwi']\n"
     ]
    }
   ],
   "source": [
    "fruits.insert(1,'orange')\n",
    "print(fruits)"
   ]
  },
  {
   "cell_type": "code",
   "execution_count": 32,
   "metadata": {},
   "outputs": [
    {
     "name": "stdout",
     "output_type": "stream",
     "text": [
      "['mango', 'pineapple', 'orange', 'orange', 'banana', 'apple', 'melon', 'kiwi']\n"
     ]
    }
   ],
   "source": [
    "fruits.insert(0,'mango')\n",
    "print(fruits)"
   ]
  },
  {
   "cell_type": "markdown",
   "metadata": {},
   "source": [
    "```\n",
    "remove()\n",
    "```\n",
    "A method that removes an element from a list"
   ]
  },
  {
   "cell_type": "code",
   "execution_count": 33,
   "metadata": {},
   "outputs": [
    {
     "name": "stdout",
     "output_type": "stream",
     "text": [
      "['mango', 'pineapple', 'orange', 'orange', 'apple', 'melon', 'kiwi']\n"
     ]
    }
   ],
   "source": [
    "fruits.remove('banana')\n",
    "print(fruits)"
   ]
  },
  {
   "cell_type": "markdown",
   "metadata": {},
   "source": [
    "```\n",
    "pop()\n",
    "```\n",
    "A method that extracters an elements from a list by removing it at a given index"
   ]
  },
  {
   "cell_type": "code",
   "execution_count": 34,
   "metadata": {},
   "outputs": [
    {
     "name": "stdout",
     "output_type": "stream",
     "text": [
      "['mango', 'pineapple', 'orange', 'apple', 'melon', 'kiwi']\n"
     ]
    }
   ],
   "source": [
    "fruits.pop(2)\n",
    "print(fruits)"
   ]
  },
  {
   "cell_type": "code",
   "execution_count": 35,
   "metadata": {},
   "outputs": [
    {
     "name": "stdout",
     "output_type": "stream",
     "text": [
      "['mango', 'pineapple', 'orange', 'mango', 'melon', 'kiwi']\n"
     ]
    }
   ],
   "source": [
    "fruits[3]='mango'\n",
    "print(fruits)"
   ]
  },
  {
   "cell_type": "code",
   "execution_count": 36,
   "metadata": {},
   "outputs": [
    {
     "name": "stdout",
     "output_type": "stream",
     "text": [
      "1.21gigawatts\n"
     ]
    }
   ],
   "source": [
    "power='1.21'\n",
    "power=power+'gigawatts'\n",
    "print(power)"
   ]
  },
  {
   "cell_type": "code",
   "execution_count": 37,
   "metadata": {},
   "outputs": [
    {
     "name": "stdout",
     "output_type": "stream",
     "text": [
      "[2.21, 'gigawatts']\n"
     ]
    }
   ],
   "source": [
    "power=['1.21','gigawatts']\n",
    "power[0]=2.21\n",
    "print(power)"
   ]
  },
  {
   "cell_type": "code",
   "execution_count": 39,
   "metadata": {},
   "outputs": [
    {
     "name": "stdout",
     "output_type": "stream",
     "text": [
      "[]\n"
     ]
    }
   ],
   "source": [
    "empty_list=list()\n",
    "print(empty_list)"
   ]
  },
  {
   "cell_type": "code",
   "execution_count": 3,
   "metadata": {},
   "outputs": [
    {
     "name": "stdout",
     "output_type": "stream",
     "text": [
      "['inclinant', 'sed', 'non']\n"
     ]
    }
   ],
   "source": [
    "phrase=['Astra','inclinant','sed','non','obligant']\n",
    "print(phrase[1:4])"
   ]
  },
  {
   "cell_type": "code",
   "execution_count": 4,
   "metadata": {},
   "outputs": [
    {
     "name": "stdout",
     "output_type": "stream",
     "text": [
      "['Macuduff', 1, 2, 3, 4, 5, 'Banquo']\n"
     ]
    }
   ],
   "source": [
    "my_list=['Macuduff','Malcolm','Macbeth','Banquo',]\n",
    "my_list[1:3]=[1,2,3,4,5]\n",
    "print(my_list)"
   ]
  },
  {
   "cell_type": "code",
   "execution_count": 6,
   "metadata": {},
   "outputs": [
    {
     "data": {
      "text/plain": [
       "[1, 2, 3, 'a', 'b', 'c']"
      ]
     },
     "execution_count": 6,
     "metadata": {},
     "output_type": "execute_result"
    }
   ],
   "source": [
    "num_list=[1,2,3]\n",
    "char_list=['a','b','c']\n",
    "num_list+char_list"
   ]
  },
  {
   "cell_type": "code",
   "execution_count": 7,
   "metadata": {},
   "outputs": [
    {
     "data": {
      "text/plain": [
       "['a', 'b', 'c', 'a', 'b', 'c']"
      ]
     },
     "execution_count": 7,
     "metadata": {},
     "output_type": "execute_result"
    }
   ],
   "source": [
    "list_a=['a','b','c']\n",
    "list_a *2"
   ]
  },
  {
   "cell_type": "code",
   "execution_count": 8,
   "metadata": {},
   "outputs": [
    {
     "name": "stdout",
     "output_type": "stream",
     "text": [
      "False\n",
      "True\n"
     ]
    }
   ],
   "source": [
    "num_list=[2,4,6]\n",
    "print(5 in num_list)\n",
    "print(5 not in num_list)"
   ]
  },
  {
   "cell_type": "code",
   "execution_count": 9,
   "metadata": {},
   "outputs": [
    {
     "name": "stdout",
     "output_type": "stream",
     "text": [
      "['b', 'c', 'd']\n"
     ]
    }
   ],
   "source": [
    "#remove the fiorst occurrence of an item:\n",
    "\n",
    "my_list=['a','b','c','d']\n",
    "my_list.remove('a')\n",
    "print(my_list)"
   ]
  },
  {
   "cell_type": "code",
   "execution_count": 10,
   "metadata": {},
   "outputs": [
    {
     "name": "stdout",
     "output_type": "stream",
     "text": [
      "d\n",
      "['a', 'b', 'c']\n"
     ]
    }
   ],
   "source": [
    "# .pop() removes and returns the last item in the list\n",
    " \n",
    "my_list=['a','b','c','d']\n",
    "print(my_list.pop())\n",
    "print(my_list)"
   ]
  },
  {
   "cell_type": "code",
   "execution_count": 11,
   "metadata": {},
   "outputs": [
    {
     "name": "stdout",
     "output_type": "stream",
     "text": [
      "[]\n"
     ]
    }
   ],
   "source": [
    "# remove all items\n",
    "\n",
    "my_list=['a','b','c']\n",
    "my_list.clear()\n",
    "print(my_list)"
   ]
  },
  {
   "cell_type": "code",
   "execution_count": 12,
   "metadata": {},
   "outputs": [
    {
     "data": {
      "text/plain": [
       "1"
      ]
     },
     "execution_count": 12,
     "metadata": {},
     "output_type": "execute_result"
    }
   ],
   "source": [
    "my_list=['a','b','c','d']\n",
    "my_list.index('b')"
   ]
  },
  {
   "cell_type": "code",
   "execution_count": 14,
   "metadata": {},
   "outputs": [
    {
     "data": {
      "text/plain": [
       "1"
      ]
     },
     "execution_count": 14,
     "metadata": {},
     "output_type": "execute_result"
    }
   ],
   "source": [
    "my_list=['a','b','c','d']\n",
    "my_list.count('a')"
   ]
  },
  {
   "cell_type": "code",
   "execution_count": 24,
   "metadata": {},
   "outputs": [
    {
     "name": "stdout",
     "output_type": "stream",
     "text": [
      "[8, 7, 6, 5, 2, 2, 1, 0]\n",
      "['a', 'b', 'c', 'd']\n"
     ]
    }
   ],
   "source": [
    "# sort(),sorts the list ascending by default, you can also make a function to decide the sorting criteria\n",
    "\n",
    "char_list=['a','b','c','d']\n",
    "num_list=[2,5,6,7,8,2,1,0]\n",
    "char_list.sort()\n",
    "num_list.sort(reverse=True)\n",
    "print(num_list)\n",
    "print(char_list)\n"
   ]
  },
  {
   "cell_type": "markdown",
   "metadata": {},
   "source": [
    "https://docs.python.org/3/tutorial/introduction.html#lists"
   ]
  },
  {
   "cell_type": "markdown",
   "metadata": {},
   "source": [
    "https://docs.python.org/3/tutorial/datastructures.html"
   ]
  },
  {
   "cell_type": "markdown",
   "metadata": {},
   "source": [
    "### Introduction to tuples"
   ]
  },
  {
   "cell_type": "markdown",
   "metadata": {},
   "source": [
    "#### Tuple\n",
    "An immutable sequence that can contain elements of any data type.\n"
   ]
  },
  {
   "cell_type": "markdown",
   "metadata": {},
   "source": [
    "Tuples are expressed with parentheses or the `touple()` function"
   ]
  },
  {
   "cell_type": "code",
   "execution_count": 25,
   "metadata": {},
   "outputs": [],
   "source": [
    "fullname=('Masha','Z','Hopper')"
   ]
  },
  {
   "cell_type": "code",
   "execution_count": 29,
   "metadata": {},
   "outputs": [
    {
     "name": "stdout",
     "output_type": "stream",
     "text": [
      "('Masha', 'Z', 'Hopper', 'Jr', 'Jr')\n"
     ]
    }
   ],
   "source": [
    "fullname=fullname+('Jr',)\n",
    "print(fullname)\n"
   ]
  },
  {
   "cell_type": "markdown",
   "metadata": {},
   "source": [
    "```\n",
    "tuple()\n",
    "```\n",
    "Function that transforms input into tuples\n"
   ]
  },
  {
   "cell_type": "code",
   "execution_count": 30,
   "metadata": {},
   "outputs": [
    {
     "name": "stdout",
     "output_type": "stream",
     "text": [
      "('Masha', 'Z', 'Hopper')\n"
     ]
    }
   ],
   "source": [
    "fullname=['Masha','Z','Hopper']\n",
    "fullname=tuple(fullname)\n",
    "print(fullname)"
   ]
  },
  {
   "cell_type": "code",
   "execution_count": 31,
   "metadata": {},
   "outputs": [],
   "source": [
    "def to_dollars_cents(price):\n",
    "    '''\n",
    "    Split price(float) into dollars and cents\n",
    "    '''\n",
    "    dollars=int(price//1)\n",
    "    cents=round(price%1*100)\n",
    "\n",
    "    return dollars,cents"
   ]
  },
  {
   "cell_type": "code",
   "execution_count": 32,
   "metadata": {},
   "outputs": [
    {
     "data": {
      "text/plain": [
       "(5, 79)"
      ]
     },
     "execution_count": 32,
     "metadata": {},
     "output_type": "execute_result"
    }
   ],
   "source": [
    "to_dollars_cents(5.7890)"
   ]
  },
  {
   "cell_type": "code",
   "execution_count": 40,
   "metadata": {},
   "outputs": [
    {
     "name": "stdout",
     "output_type": "stream",
     "text": [
      "7\n",
      "89\n"
     ]
    }
   ],
   "source": [
    "dollars,cents=to_dollars_cents(6.879)\n",
    "print(dollars+1)\n",
    "print(cents+1)"
   ]
  },
  {
   "cell_type": "code",
   "execution_count": 41,
   "metadata": {},
   "outputs": [
    {
     "data": {
      "text/plain": [
       "int"
      ]
     },
     "execution_count": 41,
     "metadata": {},
     "output_type": "execute_result"
    }
   ],
   "source": [
    "type(cents)"
   ]
  },
  {
   "cell_type": "code",
   "execution_count": 42,
   "metadata": {},
   "outputs": [],
   "source": [
    "team=[('Marta',28,'center'),\n",
    "     ('Ana',22,'point guard'),\n",
    "     ('Gabi',22,'shooting guard'),\n",
    "     ('Luz',21,'power forward'),\n",
    "     ('Lorema',18,'small forward')\n",
    "     ]"
   ]
  },
  {
   "cell_type": "code",
   "execution_count": 43,
   "metadata": {},
   "outputs": [
    {
     "name": "stdout",
     "output_type": "stream",
     "text": [
      "Marta\n",
      "Ana\n",
      "Gabi\n",
      "Luz\n",
      "Lorema\n"
     ]
    }
   ],
   "source": [
    "for name, age, position in team:\n",
    "    print(name)"
   ]
  },
  {
   "cell_type": "code",
   "execution_count": 44,
   "metadata": {},
   "outputs": [
    {
     "name": "stdout",
     "output_type": "stream",
     "text": [
      "('Marta', 28, 'center')\n",
      "('Ana', 22, 'point guard')\n",
      "('Gabi', 22, 'shooting guard')\n",
      "('Luz', 21, 'power forward')\n",
      "('Lorema', 18, 'small forward')\n"
     ]
    }
   ],
   "source": [
    "for player in team:\n",
    "    print(player)"
   ]
  },
  {
   "cell_type": "code",
   "execution_count": 45,
   "metadata": {},
   "outputs": [
    {
     "name": "stdout",
     "output_type": "stream",
     "text": [
      "Marta\n",
      "Ana\n",
      "Gabi\n",
      "Luz\n",
      "Lorema\n"
     ]
    }
   ],
   "source": [
    "for player in team:\n",
    "    print(player[0])"
   ]
  },
  {
   "cell_type": "markdown",
   "metadata": {},
   "source": [
    "### Compare lists, strings, and tuples"
   ]
  },
  {
   "cell_type": "code",
   "execution_count": 48,
   "metadata": {},
   "outputs": [
    {
     "data": {
      "text/plain": [
       "'\\nmarathon\\ngolfcart\\n'"
      ]
     },
     "execution_count": 48,
     "metadata": {},
     "output_type": "execute_result"
    }
   ],
   "source": [
    "#Using triple quotes to write a string over multiple lines will insert newlines (\\n).\n",
    "my_string3=\"\"\"\n",
    "marathon\n",
    "golfcart\n",
    "\"\"\"\n",
    "\n",
    "my_string3"
   ]
  },
  {
   "cell_type": "code",
   "execution_count": 49,
   "metadata": {},
   "outputs": [
    {
     "data": {
      "text/plain": [
       "'\\nmarathon\\ngolfcart\\n'"
      ]
     },
     "execution_count": 49,
     "metadata": {},
     "output_type": "execute_result"
    }
   ],
   "source": [
    "my_string3 = \"\"\"\n",
    "marathon\n",
    "golfcart\n",
    "\"\"\"\n",
    "\n",
    "my_string3"
   ]
  },
  {
   "cell_type": "markdown",
   "metadata": {},
   "source": [
    "#### Strings\n",
    "**content**\n",
    "- Strings can contain any character-letters, numbers, punctutaion marks, spaces- but everthing between the opening and closing quotation marks is part of same single string.\n",
    "\n",
    "**Mutability**\n",
    "- Strings are immutable. This means that once a string is created, it cannot be modified. Any operation that appears to modify a string actually creats a new string object.\n",
    "\n",
    "**Usage**\n",
    "- Strings are most commonly used to represent text data.\n",
    "\n",
    "**Methods**\n",
    "\n",
    "- The python `string` class comes packed with many useful methods to mainpulat the data contained in strings. For more information on these methods refer to https://docs.python.org/3/library/string.html in the Python documentation. \n"
   ]
  },
  {
   "cell_type": "code",
   "execution_count": 50,
   "metadata": {},
   "outputs": [
    {
     "name": "stdout",
     "output_type": "stream",
     "text": [
      "['r', 'o', 'c', 'k', 's']\n",
      "['stones', 'water', 'underground']\n"
     ]
    }
   ],
   "source": [
    "print(list('rocks'))\n",
    "print(list(('stones','water','underground')))"
   ]
  },
  {
   "cell_type": "markdown",
   "metadata": {},
   "source": [
    "#### Lists\n",
    "**Content**\n",
    "- Lists can contain any data type, and in any combination. So, a single list can contain strings,integers, floats, tuples, dictionaries, and other lists.\n",
    "\n",
    "**Mutability**\n",
    "- Lists are **mutable**. This means that they can be modified after they are created.\n",
    "\n",
    "**Usage**\n",
    "- Lists are very versatile and therefore are used in numbers cases. Some common ones are:\n",
    "    - Storing collections of related items\n",
    "    - Storing collections of items that you want to iterate over: Because lists are ordered you can easily iterate over their elements using a for loop or list comprehension.\n",
    "    - Sorting and searching: Lists can be sorted and searched, making them useful for tasks such as finding the minimum or maximum value in a list or sorting a list of items alphabetically.\n",
    "    - Modifying existing data: Because lists are mutable, they are useful for situations in which you know you'll need to modify your data.\n",
    "    - Storing results: Lists can be used to store the results of a computation or a series of operations, making them useful in many different programming tasks.\n",
    "\n",
    "**Methods**\n",
    "- You can find methods for the Python list class in  https://docs.python.org/3/tutorial/datastructures.html#more-on-lists in the Python documentation.\n",
    "\n",
    "    "
   ]
  },
  {
   "cell_type": "code",
   "execution_count": 51,
   "metadata": {},
   "outputs": [
    {
     "name": "stdout",
     "output_type": "stream",
     "text": [
      "<class 'int'>\n",
      "<class 'tuple'>\n"
     ]
    }
   ],
   "source": [
    "# Note: When using parentheses to declare a tuple with just a single element, you must use a trailing comma. \n",
    "\n",
    "test1=(1)\n",
    "test2=(1,)\n",
    "\n",
    "print(type(test1))\n",
    "print(type(test2))\n"
   ]
  },
  {
   "cell_type": "code",
   "execution_count": 52,
   "metadata": {},
   "outputs": [
    {
     "name": "stdout",
     "output_type": "stream",
     "text": [
      "<class 'tuple'>\n",
      "<class 'tuple'>\n"
     ]
    }
   ],
   "source": [
    "# No parentheses, but each element followed by a comma (even if there’s only one element):\n",
    "\n",
    "tuple1=1,\n",
    "tuple2=2,3,4,5\n",
    "\n",
    "print(type(tuple1))\n",
    "print(type(tuple2))"
   ]
  },
  {
   "cell_type": "markdown",
   "metadata": {},
   "source": [
    "#### Tuples\n",
    "**Content**\n",
    "- Tuples can contain any data type, and in any combination. So, a single tuple can contain strings, integers, floats,lists, dictionaries, and other tuples.\n",
    "\n",
    "**Mutability**\n",
    "- Tuples are **immutable**. This means that once a tuple is created, it cannot be modified.\n",
    "\n",
    "**Usage**\n",
    "- Common uses of tuples include:\n",
    "    - Returning multiple values from a function\n",
    "    - Packing and unpacking sequences: You can use tuples to assign multiple values in a single line of code.\n",
    "    - Dictionary keys: Because tuples are immutable, they can be used as dictionary keys,whereas lists cannot.\n",
    "    Data integrity: Due to their immutable nature, tuples are a more secure way of storing data because they safeguard against accidental changes.\n",
    "\n",
    "**Mehtods**\n",
    "- Because tuples are built for data security, Python has only two methods that can be used on them:\n",
    "    - `count()` returns the number of times a specified value occurs in the tuple.\n",
    "    - `index()` searches the tuple for a specified value and returns the index of the first occurrence of the value.\n",
    "    \n"
   ]
  },
  {
   "cell_type": "markdown",
   "metadata": {},
   "source": [
    "Resources:\n",
    "For more information about strings, refer to the\n",
    "(https://docs.python.org/3/tutorial/introduction.html#strings)\n",
    "\n",
    "For more information about lists, refer to the \n",
    "https://docs.python.org/3/tutorial/introduction.html#lists\n",
    "\n",
    "For more information about tuples, refer to the \n",
    "https://docs.python.org/3/library/stdtypes.html#tuples"
   ]
  },
  {
   "cell_type": "markdown",
   "metadata": {},
   "source": []
  },
  {
   "cell_type": "markdown",
   "metadata": {},
   "source": [
    "### More with loops, lists and tuples"
   ]
  },
  {
   "cell_type": "code",
   "execution_count": 53,
   "metadata": {},
   "outputs": [],
   "source": [
    "team=[\n",
    "     ('Marta',20,'center'),\n",
    "     ('Ana',22,'point guard'),\n",
    "     ('Gabi',22,'shooting guard'),\n",
    "     ('Luz',22,'power forward'),\n",
    "     ('Lorena',19,'small foreward')\n",
    "]"
   ]
  },
  {
   "cell_type": "code",
   "execution_count": 58,
   "metadata": {},
   "outputs": [],
   "source": [
    "def player_position(players):\n",
    "    result=[]\n",
    "    for name,age,position in players:\n",
    "        result.append('Name{:>19} \\nPosition:{:>15}\\n'.format(name,position))\n",
    "    \n",
    "    return result\n",
    "\n",
    "#{:>19} 表示字符串左侧的空格数"
   ]
  },
  {
   "cell_type": "code",
   "execution_count": 59,
   "metadata": {},
   "outputs": [
    {
     "name": "stdout",
     "output_type": "stream",
     "text": [
      "Name              Marta \n",
      "Position:         center\n",
      "\n",
      "Name                Ana \n",
      "Position:    point guard\n",
      "\n",
      "Name               Gabi \n",
      "Position: shooting guard\n",
      "\n",
      "Name                Luz \n",
      "Position:  power forward\n",
      "\n",
      "Name             Lorena \n",
      "Position: small foreward\n",
      "\n"
     ]
    }
   ],
   "source": [
    "for player in player_position(team):\n",
    "    print(player)"
   ]
  },
  {
   "cell_type": "code",
   "execution_count": 63,
   "metadata": {},
   "outputs": [
    {
     "name": "stdout",
     "output_type": "stream",
     "text": [
      "[0|0] [0|1] [0|2] [0|3] [0|4] [0|5] [0|6] \n",
      "\n",
      "[1|1] [1|2] [1|3] [1|4] [1|5] [1|6] \n",
      "\n",
      "[2|2] [2|3] [2|4] [2|5] [2|6] \n",
      "\n",
      "[3|3] [3|4] [3|5] [3|6] \n",
      "\n",
      "[4|4] [4|5] [4|6] \n",
      "\n",
      "[5|5] [5|6] \n",
      "\n",
      "[6|6] \n",
      "\n"
     ]
    }
   ],
   "source": [
    "for left in range(7):\n",
    "    for right in range(left,7):\n",
    "        print(f\"[{left}|{right}]\",end=\" \")\n",
    "    print('\\n')\n",
    "\n",
    "# range() 函数可创建一个整数列表，一般用在 for 循环中\n",
    "# range(start, stop[, step]) "
   ]
  },
  {
   "cell_type": "code",
   "execution_count": 66,
   "metadata": {},
   "outputs": [
    {
     "data": {
      "text/plain": [
       "[(0, 0),\n",
       " (0, 1),\n",
       " (0, 2),\n",
       " (0, 3),\n",
       " (0, 4),\n",
       " (0, 5),\n",
       " (0, 6),\n",
       " (1, 1),\n",
       " (1, 2),\n",
       " (1, 3),\n",
       " (1, 4),\n",
       " (1, 5),\n",
       " (1, 6),\n",
       " (2, 2),\n",
       " (2, 3),\n",
       " (2, 4),\n",
       " (2, 5),\n",
       " (2, 6),\n",
       " (3, 3),\n",
       " (3, 4),\n",
       " (3, 5),\n",
       " (3, 6),\n",
       " (4, 4),\n",
       " (4, 5),\n",
       " (4, 6),\n",
       " (5, 5),\n",
       " (5, 6),\n",
       " (6, 6)]"
      ]
     },
     "execution_count": 66,
     "metadata": {},
     "output_type": "execute_result"
    }
   ],
   "source": [
    "dominoes =[]\n",
    "for left in range(7):\n",
    "    for right in range(left,7):\n",
    "        dominoes.append((left,right))\n",
    "dominoes"
   ]
  },
  {
   "cell_type": "code",
   "execution_count": 71,
   "metadata": {},
   "outputs": [
    {
     "data": {
      "text/plain": [
       "(1, 1)"
      ]
     },
     "execution_count": 71,
     "metadata": {},
     "output_type": "execute_result"
    }
   ],
   "source": [
    "dominoes[7][0]\n",
    "# 检查dominoes中第七个元素的第一个字符"
   ]
  },
  {
   "cell_type": "code",
   "execution_count": 79,
   "metadata": {},
   "outputs": [
    {
     "name": "stdout",
     "output_type": "stream",
     "text": [
      "[(0, 0), (0, 1), (0, 2), (0, 3), (0, 4), (0, 5), (0, 6), (1, 1), (1, 2), (1, 3), (1, 4), (1, 5), (1, 6), (2, 2), (2, 3), (2, 4), (2, 5), (2, 6), (3, 3), (3, 4), (3, 5), (3, 6), (4, 4), (4, 5), (4, 6), (5, 5), (5, 6), (6, 6)]\n",
      "0 0\n",
      "[0]\n",
      "0 1\n",
      "[0, 1]\n",
      "0 2\n",
      "[0, 1, 2]\n",
      "0 3\n",
      "[0, 1, 2, 3]\n",
      "0 4\n",
      "[0, 1, 2, 3, 4]\n",
      "0 5\n",
      "[0, 1, 2, 3, 4, 5]\n",
      "0 6\n",
      "[0, 1, 2, 3, 4, 5, 6]\n",
      "1 1\n",
      "[0, 1, 2, 3, 4, 5, 6, 2]\n",
      "1 2\n",
      "[0, 1, 2, 3, 4, 5, 6, 2, 3]\n",
      "1 3\n",
      "[0, 1, 2, 3, 4, 5, 6, 2, 3, 4]\n",
      "1 4\n",
      "[0, 1, 2, 3, 4, 5, 6, 2, 3, 4, 5]\n",
      "1 5\n",
      "[0, 1, 2, 3, 4, 5, 6, 2, 3, 4, 5, 6]\n",
      "1 6\n",
      "[0, 1, 2, 3, 4, 5, 6, 2, 3, 4, 5, 6, 7]\n",
      "2 2\n",
      "[0, 1, 2, 3, 4, 5, 6, 2, 3, 4, 5, 6, 7, 4]\n",
      "2 3\n",
      "[0, 1, 2, 3, 4, 5, 6, 2, 3, 4, 5, 6, 7, 4, 5]\n",
      "2 4\n",
      "[0, 1, 2, 3, 4, 5, 6, 2, 3, 4, 5, 6, 7, 4, 5, 6]\n",
      "2 5\n",
      "[0, 1, 2, 3, 4, 5, 6, 2, 3, 4, 5, 6, 7, 4, 5, 6, 7]\n",
      "2 6\n",
      "[0, 1, 2, 3, 4, 5, 6, 2, 3, 4, 5, 6, 7, 4, 5, 6, 7, 8]\n",
      "3 3\n",
      "[0, 1, 2, 3, 4, 5, 6, 2, 3, 4, 5, 6, 7, 4, 5, 6, 7, 8, 6]\n",
      "3 4\n",
      "[0, 1, 2, 3, 4, 5, 6, 2, 3, 4, 5, 6, 7, 4, 5, 6, 7, 8, 6, 7]\n",
      "3 5\n",
      "[0, 1, 2, 3, 4, 5, 6, 2, 3, 4, 5, 6, 7, 4, 5, 6, 7, 8, 6, 7, 8]\n",
      "3 6\n",
      "[0, 1, 2, 3, 4, 5, 6, 2, 3, 4, 5, 6, 7, 4, 5, 6, 7, 8, 6, 7, 8, 9]\n",
      "4 4\n",
      "[0, 1, 2, 3, 4, 5, 6, 2, 3, 4, 5, 6, 7, 4, 5, 6, 7, 8, 6, 7, 8, 9, 8]\n",
      "4 5\n",
      "[0, 1, 2, 3, 4, 5, 6, 2, 3, 4, 5, 6, 7, 4, 5, 6, 7, 8, 6, 7, 8, 9, 8, 9]\n",
      "4 6\n",
      "[0, 1, 2, 3, 4, 5, 6, 2, 3, 4, 5, 6, 7, 4, 5, 6, 7, 8, 6, 7, 8, 9, 8, 9, 10]\n",
      "5 5\n",
      "[0, 1, 2, 3, 4, 5, 6, 2, 3, 4, 5, 6, 7, 4, 5, 6, 7, 8, 6, 7, 8, 9, 8, 9, 10, 10]\n",
      "5 6\n",
      "[0, 1, 2, 3, 4, 5, 6, 2, 3, 4, 5, 6, 7, 4, 5, 6, 7, 8, 6, 7, 8, 9, 8, 9, 10, 10, 11]\n",
      "6 6\n",
      "[0, 1, 2, 3, 4, 5, 6, 2, 3, 4, 5, 6, 7, 4, 5, 6, 7, 8, 6, 7, 8, 9, 8, 9, 10, 10, 11, 12]\n"
     ]
    }
   ],
   "source": [
    "pips_from_loop=[]\n",
    "print(dominoes)\n",
    "for domino in dominoes:\n",
    "    pips_from_loop.append(domino[0]+domino[1])\n",
    "    print(domino[0],domino[1])\n",
    "    print(pips_from_loop)"
   ]
  },
  {
   "cell_type": "code",
   "execution_count": 70,
   "metadata": {},
   "outputs": [
    {
     "name": "stdout",
     "output_type": "stream",
     "text": [
      "[0, 1, 2, 3, 4, 5, 6, 2, 3, 4, 5, 6, 7, 4, 5, 6, 7, 8, 6, 7, 8, 9, 8, 9, 10, 10, 11, 12]\n"
     ]
    }
   ],
   "source": [
    "pips_from_loop=[]\n",
    "for domino in dominoes:\n",
    "    pips_from_loop.append(domino[0]+domino[1])\n",
    "print(pips_from_loop)"
   ]
  },
  {
   "cell_type": "markdown",
   "metadata": {},
   "source": [
    "#### List comprehension\n",
    "Formulaic creation of a new list based on the values in an existing list\n"
   ]
  },
  {
   "cell_type": "code",
   "execution_count": 80,
   "metadata": {},
   "outputs": [
    {
     "data": {
      "text/plain": [
       "True"
      ]
     },
     "execution_count": 80,
     "metadata": {},
     "output_type": "execute_result"
    }
   ],
   "source": [
    "pips_from_list_camp=[domino[0]+domino[1] for domino in dominoes]\n",
    "\n",
    "pips_from_list_camp ==pips_from_loop"
   ]
  },
  {
   "cell_type": "markdown",
   "metadata": {},
   "source": [
    "### zip(),enumerate(), and list comprehension"
   ]
  },
  {
   "cell_type": "markdown",
   "metadata": {},
   "source": [
    "#### zip()\n",
    "The `zip()` function is built-in Python function that what the name implies: It performs an element-wise combination of sequence.\n",
    "\n",
    "The function returns an **iterator** that produces tuples containing elements from each of the input sequences. An iterator is an object that enables processing of a collection of items one at a time without needing to assemble the entire collection at once. Use an iterator with loops or other iterable functions such as `list()` or `turple()`."
   ]
  },
  {
   "cell_type": "code",
   "execution_count": 82,
   "metadata": {},
   "outputs": [
    {
     "name": "stdout",
     "output_type": "stream",
     "text": [
      "<zip object at 0x7fc20a22c910>\n",
      "[('Paris', 'Frence'), ('Lagos', 'Nigeria'), ('Mumbai', 'India')]\n"
     ]
    }
   ],
   "source": [
    "cities=['Paris','Lagos','Mumbai']\n",
    "countries=['Frence','Nigeria','India','China']\n",
    "places=zip(cities,countries)\n",
    "\n",
    "print(places)\n",
    "print(list(places))"
   ]
  },
  {
   "cell_type": "markdown",
   "metadata": {},
   "source": [
    "Notice that, in this case, the `list()` function is used to generate a list of tuples from iterator object. Here are a few things to keep in mind when using the`zip()` function.\n",
    "- It works with two or more iterable objects. The given example zips two sequences, but the `zip()` function will accept more sequences and apply the same logic.\n",
    "- If the input objects are of unequal length, the resulting iterator will be the same length as the shortest input.\n",
    "- If you given it only one iterable object as an argument, the function will return an iterator that produces tuples containing only one element from that iterable at a time."
   ]
  },
  {
   "cell_type": "markdown",
   "metadata": {},
   "source": [
    "**Unzipping**\n",
    "\n",
    "You can also unzip an object with the `*` operator "
   ]
  },
  {
   "cell_type": "code",
   "execution_count": 83,
   "metadata": {},
   "outputs": [
    {
     "name": "stdout",
     "output_type": "stream",
     "text": [
      "('Nikola', 'Charles', 'Marie')\n",
      "('Tesla', 'Darwin', 'Curie')\n"
     ]
    }
   ],
   "source": [
    "scientists=[('Nikola','Tesla'),('Charles','Darwin'),('Marie','Curie')]\n",
    "given_name,surnames=zip(*scientists)\n",
    "print(given_name)\n",
    "print(surnames)"
   ]
  },
  {
   "cell_type": "markdown",
   "metadata": {},
   "source": [
    "`enumerate()`\n",
    "\n",
    "The `enmuerate()` function is another built-in Python function that allows you to iterate over a sequence while keeping track of each element's index. Similar `zip()`, it returns an iterator that produces pairs of indices and elements."
   ]
  },
  {
   "cell_type": "code",
   "execution_count": 84,
   "metadata": {},
   "outputs": [
    {
     "name": "stdout",
     "output_type": "stream",
     "text": [
      "0 a\n",
      "1 b\n",
      "2 c\n"
     ]
    }
   ],
   "source": [
    "letters=['a','b','c']\n",
    "for index,letter in enumerate(letters):\n",
    "    print(index,letter)"
   ]
  },
  {
   "cell_type": "code",
   "execution_count": 85,
   "metadata": {},
   "outputs": [
    {
     "name": "stdout",
     "output_type": "stream",
     "text": [
      "2 a\n",
      "3 b\n",
      "4 c\n"
     ]
    }
   ],
   "source": [
    "letters=['a','b','c']\n",
    "for index,letter in enumerate(letters,2):\n",
    "    print(index,letter)"
   ]
  },
  {
   "cell_type": "markdown",
   "metadata": {},
   "source": [
    "**List comprehension**\n",
    "\n",
    "https://docs.python.org/3/tutorial/datastructures.html#list-comprehensions\n",
    "\n",
    "`my_list = [expression for element in iterable if condition]`\n",
    "\n",
    "In this syntax:\n",
    "\n",
    "- `expression` refers to an operation or what you want to do with each element in the iterable sequence.\n",
    "- `element` is the variable name that you assign to represent each item in the iterable sequence.\n",
    "- `iterable` is the iterable sequence.\n",
    "- `condition` is any expression that evaluates to `True` or `False`. This element is optional and is used to filter elements of the iterable sequence."
   ]
  },
  {
   "cell_type": "code",
   "execution_count": 86,
   "metadata": {},
   "outputs": [
    {
     "name": "stdout",
     "output_type": "stream",
     "text": [
      "[11, 12, 13, 14, 15]\n"
     ]
    }
   ],
   "source": [
    "numbers=[1,2,3,4,5]\n",
    "new_list=[x+10 for x in numbers]\n",
    "print(new_list)"
   ]
  },
  {
   "cell_type": "code",
   "execution_count": 87,
   "metadata": {},
   "outputs": [
    {
     "name": "stdout",
     "output_type": "stream",
     "text": [
      "[('E', 'n'), ('S', 'a')]\n"
     ]
    }
   ],
   "source": [
    "words=['Emotan','Amina','Ibeno','Sankwala']\n",
    "new_list=[(word[0],word[-1]) for word in words if len(word)>5]\n",
    "print(new_list)"
   ]
  },
  {
   "cell_type": "markdown",
   "metadata": {},
   "source": [
    "## Dictionaries and sets"
   ]
  },
  {
   "cell_type": "markdown",
   "metadata": {},
   "source": [
    "### Introduction to dictionaries"
   ]
  },
  {
   "cell_type": "markdown",
   "metadata": {},
   "source": [
    "#### Dictionary\n",
    "A data structure that consists of a collection of key-value pairs\n"
   ]
  },
  {
   "cell_type": "code",
   "execution_count": 90,
   "metadata": {},
   "outputs": [
    {
     "data": {
      "text/plain": [
       "'zebras'"
      ]
     },
     "execution_count": 90,
     "metadata": {},
     "output_type": "execute_result"
    }
   ],
   "source": [
    "zoo={\n",
    "    'pen_1':'penguins',\n",
    "    'pen_2':'zebras',\n",
    "    'pen_3':'lines'\n",
    "}\n",
    "\n",
    "zoo['pen_2']"
   ]
  },
  {
   "cell_type": "markdown",
   "metadata": {},
   "source": [
    "`dict()`\n",
    "\n",
    "Function used to create a dictionary"
   ]
  },
  {
   "cell_type": "code",
   "execution_count": 92,
   "metadata": {},
   "outputs": [
    {
     "data": {
      "text/plain": [
       "'zebras'"
      ]
     },
     "execution_count": 92,
     "metadata": {},
     "output_type": "execute_result"
    }
   ],
   "source": [
    "zoo=dict(\n",
    "    pen_1='monkeys',\n",
    "    pen_2='zebras',\n",
    "    pen_3='lions'\n",
    ")\n",
    "zoo['pen_2']"
   ]
  },
  {
   "cell_type": "code",
   "execution_count": 93,
   "metadata": {},
   "outputs": [
    {
     "data": {
      "text/plain": [
       "{'pen_1': 'monkeys',\n",
       " 'pen_2': 'zebras',\n",
       " 'pen_3': 'lions',\n",
       " 'pen_4': 'crocodiles'}"
      ]
     },
     "execution_count": 93,
     "metadata": {},
     "output_type": "execute_result"
    }
   ],
   "source": [
    "zoo['pen_4']='crocodiles'\n",
    "zoo"
   ]
  },
  {
   "cell_type": "markdown",
   "metadata": {},
   "source": [
    "**Immutable keys**\n",
    "- Integers\n",
    "- Floats\n",
    "- Tuples\n",
    "- Strings\n",
    "\n",
    "**Mutable data types cannot be used as keys**\n",
    "- Lists\n",
    "- Sets\n",
    "- Other dictionaries\n",
    "\n",
    "\n"
   ]
  },
  {
   "cell_type": "code",
   "execution_count": 97,
   "metadata": {},
   "outputs": [
    {
     "name": "stdout",
     "output_type": "stream",
     "text": [
      "True\n",
      "False\n"
     ]
    }
   ],
   "source": [
    "print('pen_1' in zoo)\n",
    "print('pen_7' in zoo)"
   ]
  },
  {
   "cell_type": "markdown",
   "metadata": {},
   "source": [
    "### Dictionary methods"
   ]
  },
  {
   "cell_type": "code",
   "execution_count": 104,
   "metadata": {},
   "outputs": [],
   "source": [
    "team =[\n",
    "    ('Marta',20,'center'),\n",
    "    ('Ana',22,'point guard'),\n",
    "    ('Gabi',22,'shooting guard'),\n",
    "    ('Luz',21,'power forward'),\n",
    "    ('Lorena',19,'small forward'),\n",
    "    ('Sandra',19,'center'),\n",
    "    ('Mari',10,'point guard')\n",
    "]"
   ]
  },
  {
   "cell_type": "code",
   "execution_count": 107,
   "metadata": {},
   "outputs": [
    {
     "data": {
      "text/plain": [
       "\"new_team={\\n    'center':[('Marta',20),('Sandra',19)],\\n    'point guard':[('Ana',22),('Mari',10)],\\n    'shooting guard':[('Gabi',22),('Esme',18)],\\n    'power forward':[('Luz',21),('Lin',18)],\\n    'small forward':[('Lorena',19),('Sol',19)],\\n\\n}\""
      ]
     },
     "execution_count": 107,
     "metadata": {},
     "output_type": "execute_result"
    }
   ],
   "source": [
    "new_team={\n",
    "    'center':[('Marta',20),('Sandra',19)],\n",
    "    'point guard':[('Ana',22),('Mari',10)],\n",
    "    'shooting guard':[('Gabi',22),('Esme',18)],\n",
    "    'power forward':[('Luz',21),('Lin',18)],\n",
    "    'small forward':[('Lorena',19),('Sol',19)],\n",
    "\n",
    "}"
   ]
  },
  {
   "cell_type": "code",
   "execution_count": 115,
   "metadata": {},
   "outputs": [
    {
     "name": "stdout",
     "output_type": "stream",
     "text": [
      "{}\n",
      "{'center': [('Marta', 20)]}\n",
      "{'center': [('Marta', 20)], 'point guard': [('Ana', 22)]}\n",
      "{'center': [('Marta', 20)], 'point guard': [('Ana', 22)], 'shooting guard': [('Gabi', 22)]}\n",
      "{'center': [('Marta', 20)], 'point guard': [('Ana', 22)], 'shooting guard': [('Gabi', 22)], 'power forward': [('Luz', 21)]}\n",
      "{'center': [('Marta', 20)], 'point guard': [('Ana', 22)], 'shooting guard': [('Gabi', 22)], 'power forward': [('Luz', 21)], 'small forward': [('Lorena', 19)]}\n",
      "{'center': [('Marta', 20), ('Sandra', 19)], 'point guard': [('Ana', 22)], 'shooting guard': [('Gabi', 22)], 'power forward': [('Luz', 21)], 'small forward': [('Lorena', 19)]}\n"
     ]
    },
    {
     "data": {
      "text/plain": [
       "[('Ana', 22), ('Mari', 10)]"
      ]
     },
     "execution_count": 115,
     "metadata": {},
     "output_type": "execute_result"
    }
   ],
   "source": [
    "new_team={}\n",
    "for name, age, position in team:\n",
    "    print(new_team)\n",
    "    if position in new_team:\n",
    "        new_team[position].append((name,age))\n",
    "    else:\n",
    "        new_team[position]=[(name,age)]\n",
    "\n",
    "new_team[position]"
   ]
  },
  {
   "cell_type": "code",
   "execution_count": 109,
   "metadata": {},
   "outputs": [
    {
     "data": {
      "text/plain": [
       "[('Ana', 22), ('Mari', 10)]"
      ]
     },
     "execution_count": 109,
     "metadata": {},
     "output_type": "execute_result"
    }
   ],
   "source": [
    "new_team[position]"
   ]
  },
  {
   "cell_type": "code",
   "execution_count": 116,
   "metadata": {},
   "outputs": [
    {
     "data": {
      "text/plain": [
       "[('Ana', 22), ('Mari', 10)]"
      ]
     },
     "execution_count": 116,
     "metadata": {},
     "output_type": "execute_result"
    }
   ],
   "source": [
    "new_team['point guard']"
   ]
  },
  {
   "cell_type": "code",
   "execution_count": 117,
   "metadata": {},
   "outputs": [
    {
     "name": "stdout",
     "output_type": "stream",
     "text": [
      "center\n",
      "point guard\n",
      "shooting guard\n",
      "power forward\n",
      "small forward\n"
     ]
    }
   ],
   "source": [
    "for x in new_team:\n",
    "    print(x)"
   ]
  },
  {
   "cell_type": "markdown",
   "metadata": {},
   "source": [
    "`keys()`\n",
    "\n",
    "A dictionary method to retrieve only the dictionary's key"
   ]
  },
  {
   "cell_type": "code",
   "execution_count": 118,
   "metadata": {},
   "outputs": [
    {
     "data": {
      "text/plain": [
       "dict_keys(['center', 'point guard', 'shooting guard', 'power forward', 'small forward'])"
      ]
     },
     "execution_count": 118,
     "metadata": {},
     "output_type": "execute_result"
    }
   ],
   "source": [
    "new_team.keys()"
   ]
  },
  {
   "cell_type": "markdown",
   "metadata": {},
   "source": [
    "`values()`\n",
    "\n",
    "A dictionary method to retrieve only the dictionary's values"
   ]
  },
  {
   "cell_type": "code",
   "execution_count": 119,
   "metadata": {},
   "outputs": [
    {
     "data": {
      "text/plain": [
       "dict_values([[('Marta', 20), ('Sandra', 19)], [('Ana', 22), ('Mari', 10)], [('Gabi', 22)], [('Luz', 21)], [('Lorena', 19)]])"
      ]
     },
     "execution_count": 119,
     "metadata": {},
     "output_type": "execute_result"
    }
   ],
   "source": [
    "new_team.values()"
   ]
  },
  {
   "cell_type": "markdown",
   "metadata": {},
   "source": [
    "`items()`\n",
    "\n",
    "A dictionary method to retrieve both the dictionary's keys and values\n"
   ]
  },
  {
   "cell_type": "code",
   "execution_count": 120,
   "metadata": {},
   "outputs": [
    {
     "data": {
      "text/plain": [
       "dict_items([('center', [('Marta', 20), ('Sandra', 19)]), ('point guard', [('Ana', 22), ('Mari', 10)]), ('shooting guard', [('Gabi', 22)]), ('power forward', [('Luz', 21)]), ('small forward', [('Lorena', 19)])])"
      ]
     },
     "execution_count": 120,
     "metadata": {},
     "output_type": "execute_result"
    }
   ],
   "source": [
    "new_team.items()"
   ]
  },
  {
   "cell_type": "code",
   "execution_count": 121,
   "metadata": {},
   "outputs": [
    {
     "name": "stdout",
     "output_type": "stream",
     "text": [
      "center [('Marta', 20), ('Sandra', 19)]\n",
      "point guard [('Ana', 22), ('Mari', 10)]\n",
      "shooting guard [('Gabi', 22)]\n",
      "power forward [('Luz', 21)]\n",
      "small forward [('Lorena', 19)]\n"
     ]
    }
   ],
   "source": [
    "for a, b in new_team.items():\n",
    "    print(a,b)"
   ]
  },
  {
   "cell_type": "markdown",
   "metadata": {},
   "source": [
    "#### Creat a dictionary\n",
    "There are two main ways to create dictionaries in Python\n",
    "- Braces`{}`\n",
    "- The dict function:`dict()`"
   ]
  },
  {
   "cell_type": "code",
   "execution_count": 122,
   "metadata": {},
   "outputs": [],
   "source": [
    "smallest_countries = dict(africa='Seychelles',\n",
    "                         asia='Maldives',\n",
    "                         europe='Vatican City',\n",
    "                         oceania='Nauru',\n",
    "                         north_america='St. Kitts and Nevis',\n",
    "                         south_america ='Suriname'\n",
    ")"
   ]
  },
  {
   "cell_type": "code",
   "execution_count": 123,
   "metadata": {},
   "outputs": [],
   "source": [
    "smallest_countries = {'Africa': 'Seychelles',\n",
    "                     'Asia': 'Maldives',\n",
    "                     'Europe': 'Vatican City',\n",
    "                     'Oceania': 'Nauru',\n",
    "                     'North America': 'St. Kitts and Nevis',\n",
    "                     'South America': 'Suriname'\n",
    "                     }"
   ]
  },
  {
   "cell_type": "markdown",
   "metadata": {},
   "source": [
    "Some important notes about keys and values:\n",
    "\n",
    "- **Dictionary keys**: Can be of any *immutable* data types, such as strings, numbers, or tuples\n",
    "\n",
    "- **Dictionary values**: Can be of any data type- mutable or immutable- including other dictionaries or objects\n",
    "\n",
    "- Each key can only correspond to a single value;"
   ]
  },
  {
   "cell_type": "code",
   "execution_count": 124,
   "metadata": {},
   "outputs": [
    {
     "name": "stdout",
     "output_type": "stream",
     "text": [
      "{'num': [1, 2, 3]}\n"
     ]
    }
   ],
   "source": [
    "# Delete a key-value pair\n",
    "\n",
    "my_dict={\n",
    "    'num':[1,2,3],\n",
    "    'abc':['a','b','c']\n",
    "}\n",
    "\n",
    "del my_dict['abc']\n",
    "print(my_dict)"
   ]
  },
  {
   "cell_type": "markdown",
   "metadata": {},
   "source": [
    "#### Additional resources\n",
    "- For more information about dictionaries, refer to the \n",
    "https://docs.python.org/3/tutorial/datastructures.html#dictionaries\n",
    "\n",
    "- For more dictionary methods, refer to the\n",
    "https://docs.python.org/3/library/stdtypes.html#mapping-types-dict\n",
    "\n",
    "- For more information about view objects, refer to the\n",
    "https://docs.python.org/3/library/stdtypes.html#dict-views"
   ]
  },
  {
   "cell_type": "markdown",
   "metadata": {},
   "source": [
    "### Introduction to sets"
   ]
  },
  {
   "cell_type": "markdown",
   "metadata": {},
   "source": [
    "#### Set\n",
    "A data structure in Python that contains only unordered, non- interchangeable elements\n"
   ]
  },
  {
   "cell_type": "markdown",
   "metadata": {},
   "source": [
    "Instantiated with `set()` function or non-empty braces.\n"
   ]
  },
  {
   "cell_type": "markdown",
   "metadata": {},
   "source": [
    "`set()`\n",
    "\n",
    "A function that takes an iterable as an argument and returns a new set objech"
   ]
  },
  {
   "cell_type": "code",
   "execution_count": 127,
   "metadata": {},
   "outputs": [
    {
     "name": "stdout",
     "output_type": "stream",
     "text": [
      "{'foo', 'baz', 'bar'}\n"
     ]
    }
   ],
   "source": [
    "x = set(['foo','bar','baz','foo'])\n",
    "print(x)\n",
    "\n",
    "# each element must be unique in sets"
   ]
  },
  {
   "cell_type": "code",
   "execution_count": 128,
   "metadata": {},
   "outputs": [
    {
     "name": "stdout",
     "output_type": "stream",
     "text": [
      "{'o', 'f'}\n"
     ]
    }
   ],
   "source": [
    "x = set('foo')\n",
    "print(x)"
   ]
  },
  {
   "cell_type": "code",
   "execution_count": 129,
   "metadata": {},
   "outputs": [
    {
     "name": "stdout",
     "output_type": "stream",
     "text": [
      "{'foo', 'baz', 'bar'}\n"
     ]
    }
   ],
   "source": [
    "x = set(('foo','bar','baz','foo'))\n",
    "print(x)"
   ]
  },
  {
   "cell_type": "code",
   "execution_count": 130,
   "metadata": {},
   "outputs": [
    {
     "name": "stdout",
     "output_type": "stream",
     "text": [
      "<class 'set'>\n",
      "<class 'dict'>\n"
     ]
    }
   ],
   "source": [
    "x={'foo'}\n",
    "print(type(x))\n",
    "\n",
    "y={}\n",
    "print(type(y))"
   ]
  },
  {
   "cell_type": "markdown",
   "metadata": {},
   "source": [
    "To define an empty set, you have to use `set()`"
   ]
  },
  {
   "cell_type": "markdown",
   "metadata": {},
   "source": [
    "`intersection()`\n",
    "\n",
    "A function that finds the elements that two sets have in common"
   ]
  },
  {
   "cell_type": "markdown",
   "metadata": {},
   "source": [
    "`union()`\n",
    "\n",
    "A function that finds all the elements from both sets"
   ]
  },
  {
   "cell_type": "markdown",
   "metadata": {},
   "source": [
    "`difference()`\n",
    "\n",
    "A function that finds the elements present in one set, but not the other"
   ]
  },
  {
   "cell_type": "markdown",
   "metadata": {},
   "source": [
    "`symmetric_difference()`\n",
    "\n",
    "A function that finds elements from both sets that are mutually not present in the other"
   ]
  },
  {
   "cell_type": "code",
   "execution_count": 137,
   "metadata": {},
   "outputs": [
    {
     "name": "stdout",
     "output_type": "stream",
     "text": [
      "{4, 5, 6}\n",
      "{4, 5, 6}\n",
      "{1, 2, 3, 4, 5, 6, 7, 8, 9}\n"
     ]
    }
   ],
   "source": [
    "set1={1,2,3,4,5,6}\n",
    "set2={4,5,6,7,8,9}\n",
    "\n",
    "print(set1.intersection(set2))\n",
    "\n",
    "print(set1 & set2)\n",
    "\n",
    "print(set1.union(set2))"
   ]
  },
  {
   "cell_type": "code",
   "execution_count": 138,
   "metadata": {},
   "outputs": [
    {
     "name": "stdout",
     "output_type": "stream",
     "text": [
      "{'foo', 'bar', 'baz', 'qux', 'quux'}\n",
      "{'foo', 'bar', 'baz', 'qux', 'quux'}\n"
     ]
    }
   ],
   "source": [
    "x1={'foo','bar','baz'}\n",
    "x2={'baz','qux','quux'}\n",
    "\n",
    "print(x1.union(x2))\n",
    "\n",
    "print(x1|x2)"
   ]
  },
  {
   "cell_type": "code",
   "execution_count": 141,
   "metadata": {},
   "outputs": [
    {
     "name": "stdout",
     "output_type": "stream",
     "text": [
      "{1, 2, 3}\n",
      "{1, 2, 3}\n"
     ]
    }
   ],
   "source": [
    "set1={1,2,3,4,5,6}\n",
    "set2={4,5,6,7,8,9}\n",
    "\n",
    "print(set1.difference(set2))\n",
    "\n",
    "print(set1-set2)"
   ]
  },
  {
   "cell_type": "code",
   "execution_count": 143,
   "metadata": {},
   "outputs": [
    {
     "name": "stdout",
     "output_type": "stream",
     "text": [
      "{8, 9, 7}\n",
      "{8, 9, 7}\n"
     ]
    }
   ],
   "source": [
    "print(set2.difference(set1))\n",
    "\n",
    "print(set2-set1)"
   ]
  },
  {
   "cell_type": "code",
   "execution_count": 145,
   "metadata": {},
   "outputs": [
    {
     "name": "stdout",
     "output_type": "stream",
     "text": [
      "{1, 2, 3, 7, 8, 9}\n",
      "{1, 2, 3, 7, 8, 9}\n"
     ]
    }
   ],
   "source": [
    "set1={1,2,3,4,5,6}\n",
    "set2={4,5,6,7,8,9}\n",
    "\n",
    "print(set2.symmetric_difference(set1))\n",
    "\n",
    "print(set2^set1)"
   ]
  },
  {
   "cell_type": "markdown",
   "metadata": {},
   "source": [
    "### Reference guide: Sets"
   ]
  },
  {
   "cell_type": "markdown",
   "metadata": {},
   "source": [
    "#### Create a set\n",
    "```\n",
    "my_set={5,10,10,20}\n",
    "```\n",
    "There are two functions for creating sets inPython: `set()` and `frozenset()`. Use these on any iterable object. Or use these functions to creat empty sets.\n",
    "\n",
    "`set()`\n",
    "\n",
    "- This is a mutable data type.\n",
    "\n",
    "- Because it's mutable, this class comes with\n",
    "https://docs.python.org/3/library/stdtypes.html#frozenset.update\n",
    "\n",
    "- It can be applied to any iterable object and will remove duplicate elements from it.\n",
    "\n",
    "- It is unordered and non-indexable.\n",
    "\n",
    "- Elements in a set must be hashable; Generally, this means they must be immutable.\n",
    "\n"
   ]
  },
  {
   "cell_type": "code",
   "execution_count": 147,
   "metadata": {},
   "outputs": [
    {
     "data": {
      "text/plain": [
       "{1, 2, 3, 4, 'a'}"
      ]
     },
     "execution_count": 147,
     "metadata": {},
     "output_type": "execute_result"
    }
   ],
   "source": [
    "example_a=[1,2,3,4,'a',2,2.0]\n",
    "\n",
    "set(example_a)"
   ]
  },
  {
   "cell_type": "code",
   "execution_count": 148,
   "metadata": {},
   "outputs": [
    {
     "data": {
      "text/plain": [
       "{(1, 2, 2, 2, 3), 2, 'apple'}"
      ]
     },
     "execution_count": 148,
     "metadata": {},
     "output_type": "execute_result"
    }
   ],
   "source": [
    "example_b = ('apple', (1, 2, 2, 2, 3), 2)\n",
    "set(example_b)"
   ]
  },
  {
   "cell_type": "markdown",
   "metadata": {},
   "source": [
    "`frozenset()`\n",
    "\n",
    "Frozensets are another type of set in Python. They are their own class, and they are similar to sets, except they are immutable.\n",
    "\n",
    "- This is an immutable data type.\n",
    "\n",
    "- It can be applied to any iterable object and will remove duplicate elements from it.\n",
    "\n",
    "- Because they're immutable, frozensets can be used as dictionary key and as elements in other sets.\n"
   ]
  },
  {
   "cell_type": "code",
   "execution_count": 149,
   "metadata": {},
   "outputs": [
    {
     "data": {
      "text/plain": [
       "{1.5, frozenset({'a', 'b', 'c'})}"
      ]
     },
     "execution_count": 149,
     "metadata": {},
     "output_type": "execute_result"
    }
   ],
   "source": [
    "example_e=[1.5,frozenset(['a','b','c']),1.5]\n",
    "set(example_e)"
   ]
  },
  {
   "cell_type": "markdown",
   "metadata": {},
   "source": [
    "#### Set methods\n",
    "Sets are useful to determine which values are contained in a data structure and to eliminate duplicate values. There are numberous set methods- such as intersection, union ,difference, and symmetric difference- that add functionality and power to working with sets."
   ]
  },
  {
   "cell_type": "code",
   "execution_count": 151,
   "metadata": {},
   "outputs": [
    {
     "name": "stdout",
     "output_type": "stream",
     "text": [
      "{'b', 'a', 'c', 'd'}\n",
      "{'b', 'a', 'c', 'd'}\n"
     ]
    }
   ],
   "source": [
    "# union()\n",
    "\n",
    "set_1={'a','b','c'}\n",
    "set_2={'b','c','d'}\n",
    "\n",
    "print(set_1.union(set_2))\n",
    "print(set_1|set_2)"
   ]
  },
  {
   "cell_type": "code",
   "execution_count": 154,
   "metadata": {},
   "outputs": [
    {
     "name": "stdout",
     "output_type": "stream",
     "text": [
      "{'b'}\n",
      "{'b'}\n"
     ]
    }
   ],
   "source": [
    "# intersection()\n",
    "\n",
    "set1={'a','b','v'}\n",
    "set2={'b','c','d'}\n",
    "\n",
    "print(set1.intersection(set2))\n",
    "print(set1 & set2)"
   ]
  },
  {
   "cell_type": "code",
   "execution_count": 155,
   "metadata": {},
   "outputs": [
    {
     "name": "stdout",
     "output_type": "stream",
     "text": [
      "{'b', 'a'}\n",
      "{'b', 'a'}\n"
     ]
    }
   ],
   "source": [
    "# difference()\n",
    "\n",
    "set1={'a','b','c'}\n",
    "set2={'c','d','e'}\n",
    "\n",
    "print(set1.difference(set2))\n",
    "print(set1-set2)"
   ]
  },
  {
   "cell_type": "code",
   "execution_count": 156,
   "metadata": {},
   "outputs": [
    {
     "name": "stdout",
     "output_type": "stream",
     "text": [
      "{'b', 'a', 'd', 'e'}\n",
      "{'b', 'a', 'd', 'e'}\n"
     ]
    }
   ],
   "source": [
    "# symmetric difference()\n",
    "\n",
    "set1={'a','b','c'}\n",
    "set2={'c','d','e'}\n",
    "\n",
    "print(set1.symmetric_difference(set2))\n",
    "print(set1^set2)"
   ]
  },
  {
   "cell_type": "code",
   "execution_count": 44,
   "metadata": {},
   "outputs": [],
   "source": [
    "def compareTriplets(a, b):\n",
    "    i=0\n",
    "    Alice=0\n",
    "    Bob=0\n",
    "    '''for i in range(0,len(a)):\n",
    "        \n",
    "        if a[i]<b[i]:\n",
    "            Alice+=1\n",
    "        elif a[i]<b[i]:\n",
    "            Bob +=1\n",
    "        elif a[i]==b[i]:\n",
    "            break\n",
    "        i+=1\n",
    "    c=[Alice , Bob]\n",
    "    return c\n",
    "'''\n",
    "\n"
   ]
  },
  {
   "cell_type": "code",
   "execution_count": 45,
   "metadata": {},
   "outputs": [
    {
     "data": {
      "text/plain": [
       "[3, 2, 1]"
      ]
     },
     "execution_count": 45,
     "metadata": {},
     "output_type": "execute_result"
    }
   ],
   "source": [
    "\n",
    "\n",
    "compareTriplets([5,6,7], [3, 6, 10])\n",
    "\n",
    "b\n",
    "\n"
   ]
  },
  {
   "cell_type": "markdown",
   "metadata": {},
   "source": [
    "## Arrays and vectors with Numpy"
   ]
  },
  {
   "cell_type": "markdown",
   "metadata": {},
   "source": [
    "### The power of packages"
   ]
  },
  {
   "cell_type": "markdown",
   "metadata": {},
   "source": [
    "#### Libeary( or package)\n",
    "Beoadly refers to a resuable collection of code"
   ]
  },
  {
   "cell_type": "markdown",
   "metadata": {},
   "source": [
    "#### Python libraries\n",
    "- **matplotlib**: A library for creating static, animated, and interactive visualizations in Python\n",
    "\n",
    "- **Seaborn**: A visualization library based on matplotlib that provides a simpler interface for working with common plots and graphs\n",
    "\n",
    "- **NumPy**: An essential library that contains multidimensional array and matrix data structures and functions to manipulate them\n",
    "\n",
    "- **pandas**: A powerful library built on top of NumPy that's used to manipulate and analyze tabular data\n"
   ]
  },
  {
   "cell_type": "markdown",
   "metadata": {},
   "source": [
    "#### Module \n",
    "A simple Python file containing a collection of functions and global variables\n",
    "\n",
    "##### Commonly used Python modules\n",
    "- Math\n",
    "\n",
    "- Random\n",
    "\n",
    "#### Global variables\n",
    "Variables that can be accessed from anywhere in a program of script"
   ]
  },
  {
   "cell_type": "markdown",
   "metadata": {},
   "source": [
    "### Introduction to NumPy"
   ]
  },
  {
   "cell_type": "markdown",
   "metadata": {},
   "source": [
    "#### Vectorization\n",
    "Enables operations to be performed on multiple components of data object at the same time\n"
   ]
  },
  {
   "cell_type": "code",
   "execution_count": 2,
   "metadata": {},
   "outputs": [],
   "source": [
    "list_a=[1,2,3]\n",
    "list_b=[2,4,6]\n",
    "\n"
   ]
  },
  {
   "cell_type": "code",
   "execution_count": 3,
   "metadata": {},
   "outputs": [
    {
     "data": {
      "text/plain": [
       "[2, 8, 18]"
      ]
     },
     "execution_count": 3,
     "metadata": {},
     "output_type": "execute_result"
    }
   ],
   "source": [
    "list_c=[]\n",
    "\n",
    "for i in range(len(list_a)):\n",
    "    list_c.append(list_a[i]*list_b[i])\n",
    "\n",
    "list_c"
   ]
  },
  {
   "cell_type": "code",
   "execution_count": 4,
   "metadata": {},
   "outputs": [
    {
     "data": {
      "text/plain": [
       "array([ 2,  8, 18])"
      ]
     },
     "execution_count": 4,
     "metadata": {},
     "output_type": "execute_result"
    }
   ],
   "source": [
    "import numpy as np\n",
    "\n",
    "array_a=np.array(list_a)\n",
    "array_b=np.array(list_b)\n",
    "\n",
    "array_a*array_b"
   ]
  },
  {
   "cell_type": "markdown",
   "metadata": {},
   "source": [
    "#### Import statement\n",
    "Uses the `import` keyword to load an external library, package, module, or function into your computing environment"
   ]
  },
  {
   "cell_type": "markdown",
   "metadata": {},
   "source": [
    "#### Aliasing\n",
    "Lets you assign an alternate name- or alias- by which you can refer to something\n"
   ]
  },
  {
   "cell_type": "markdown",
   "metadata": {},
   "source": [
    "### Understand Python libraries, packages, and modules"
   ]
  },
  {
   "cell_type": "markdown",
   "metadata": {},
   "source": [
    "#### Import statements\n"
   ]
  },
  {
   "cell_type": "code",
   "execution_count": 8,
   "metadata": {},
   "outputs": [
    {
     "data": {
      "text/plain": [
       "array([2, 4, 6])"
      ]
     },
     "execution_count": 8,
     "metadata": {},
     "output_type": "execute_result"
    }
   ],
   "source": [
    "import numpy\n",
    "\n",
    "numpy.array([2,4,6])\n",
    "\n"
   ]
  },
  {
   "cell_type": "markdown",
   "metadata": {},
   "source": [
    "#### Aliasing"
   ]
  },
  {
   "cell_type": "code",
   "execution_count": 10,
   "metadata": {},
   "outputs": [],
   "source": [
    "import numpy as np\n",
    "import pandas as pd\n",
    "import seaborn as sns\n",
    "import matplotlib as plt"
   ]
  },
  {
   "cell_type": "markdown",
   "metadata": {},
   "source": [
    "NumPy is used for high-performance vector and matrix computations. \n",
    "\n",
    "Pandas is a library for manipulating and analyzing tabular data.\n",
    "\n",
    "Seaborn and matplotlib are both libraries used to create graphs, charts, and other data visualizations."
   ]
  },
  {
   "cell_type": "code",
   "execution_count": 11,
   "metadata": {},
   "outputs": [
    {
     "data": {
      "text/plain": [
       "array([2, 4, 6])"
      ]
     },
     "execution_count": 11,
     "metadata": {},
     "output_type": "execute_result"
    }
   ],
   "source": [
    "np.array([2,4,6])"
   ]
  },
  {
   "cell_type": "markdown",
   "metadata": {},
   "source": [
    "#### Additional import syntax\n",
    "\n",
    "##### importing modules"
   ]
  },
  {
   "cell_type": "code",
   "execution_count": 12,
   "metadata": {},
   "outputs": [],
   "source": [
    "import matplotlib.pyplot as plt"
   ]
  },
  {
   "cell_type": "markdown",
   "metadata": {},
   "source": [
    "##### Importing functions\n",
    "\n",
    "Just as you can import libraries and modules, you can also import individual functions from libraries or from modules within libraries using a specific syntax. \n",
    "\n",
    "**Here’s an example depicting a common import when using the scikit-learn library to build machine learning models:**"
   ]
  },
  {
   "cell_type": "code",
   "execution_count": 13,
   "metadata": {},
   "outputs": [],
   "source": [
    "from sklearn.metrics import precision_score, recall_score\n"
   ]
  },
  {
   "cell_type": "markdown",
   "metadata": {},
   "source": [
    "**Notice the different syntax**\n",
    "\n",
    "- The import statement begins with the **from** keyword, followed by `sklearn.metrics`- the scikit-learn library + the `metrics` module.\n",
    "\n",
    "- Next is the `import` keyword followed by the desired function. In this case, there are two: `precision_score` and 'recall_score`."
   ]
  },
  {
   "cell_type": "markdown",
   "metadata": {},
   "source": [
    "The same syntax can be applied to the example using NumPy's `array()` function."
   ]
  },
  {
   "cell_type": "code",
   "execution_count": 14,
   "metadata": {},
   "outputs": [],
   "source": [
    "from numpy import array"
   ]
  },
  {
   "cell_type": "code",
   "execution_count": 15,
   "metadata": {},
   "outputs": [
    {
     "data": {
      "text/plain": [
       "array([2, 4, 6])"
      ]
     },
     "execution_count": 15,
     "metadata": {},
     "output_type": "execute_result"
    }
   ],
   "source": [
    "array([2,4,6])"
   ]
  },
  {
   "cell_type": "markdown",
   "metadata": {},
   "source": [
    "##### Discouraged syntax\n",
    "\n",
    "If you wrote `from numpy import *`, you'd be able to use all of the NumPy's functions without proceding them with `numpy` or `np`.\n",
    "\n",
    "**This approach is not recommended** because it makes it difficult to track where functions come from.\n",
    "\n",
    "Howevre, it's helpful to be aware of this because you will likely encounter it in your work as a data professional. And, in specific instances, it might be useful.\n",
    "\n"
   ]
  },
  {
   "cell_type": "code",
   "execution_count": null,
   "metadata": {},
   "outputs": [],
   "source": [
    "from library.module import *\n"
   ]
  },
  {
   "cell_type": "markdown",
   "metadata": {},
   "source": [
    "#### Commonly used built-in moudles\n",
    "\n",
    "such as ``math``, ``datatime``, and `random`\n",
    "\n",
    "These can be imported without additional installation.\n",
    "\n",
    "In other words, you can import them directly, as long as you have Python installed.\n"
   ]
  },
  {
   "cell_type": "markdown",
   "metadata": {},
   "source": [
    "`datatime`\n",
    "\n",
    "- Provides many helpful date and time conversions and calculations\n"
   ]
  },
  {
   "cell_type": "code",
   "execution_count": 20,
   "metadata": {},
   "outputs": [
    {
     "name": "stdout",
     "output_type": "stream",
     "text": [
      "1977-05-08\n",
      "1977\n",
      "1977-04-08\n"
     ]
    }
   ],
   "source": [
    "import datetime\n",
    "\n",
    "date=datetime.date(1977,5,8) #assign a date to a variable\n",
    "\n",
    "print(date) # print date\n",
    "\n",
    "print(date.year) # print the year that the date is in\n",
    "\n",
    "delta = datetime.timedelta(days=30) #assign a timedelta of 30 days to a variable\n",
    "\n",
    "print(date-delta)"
   ]
  },
  {
   "cell_type": "markdown",
   "metadata": {},
   "source": [
    "`math`\n",
    "\n",
    "- Provide access to mathematical functions"
   ]
  },
  {
   "cell_type": "code",
   "execution_count": 21,
   "metadata": {},
   "outputs": [
    {
     "name": "stdout",
     "output_type": "stream",
     "text": [
      "1.0\n",
      "0.0\n",
      "24\n",
      "10.0\n"
     ]
    }
   ],
   "source": [
    "import math\n",
    "\n",
    "print(math.exp(0)) # e**0\n",
    "print(math.log(1)) # ln(1)\n",
    "print(math.factorial(4)) # 4!\n",
    "print(math.sqrt(100)) #square root of 100"
   ]
  },
  {
   "cell_type": "markdown",
   "metadata": {},
   "source": [
    "`random`\n",
    "\n",
    "- Useful for generating random numbers"
   ]
  },
  {
   "cell_type": "code",
   "execution_count": 22,
   "metadata": {},
   "outputs": [
    {
     "name": "stdout",
     "output_type": "stream",
     "text": [
      "0.2603913306276252\n",
      "2\n",
      "4\n"
     ]
    }
   ],
   "source": [
    "import random\n",
    "\n",
    "print(random.random()) #0.0<=x<1.0\n",
    "\n",
    "print(random.choice([1,2,3])) # choose a random element from a sequence\n",
    "      \n",
    "print(random.randint(1,10)) # a<=X<=b\n",
    "\n"
   ]
  },
  {
   "cell_type": "markdown",
   "metadata": {},
   "source": [
    "https://pypi.org/\n"
   ]
  },
  {
   "cell_type": "markdown",
   "metadata": {},
   "source": [
    "### Basic array operations"
   ]
  },
  {
   "cell_type": "markdown",
   "metadata": {},
   "source": [
    "#### N-dimensional array(ndarray)\n",
    "The core data object of NumPy\n",
    "\n",
    "\n",
    "n-dimensional array = ndarray\n",
    "\n",
    "- The ndarray is a vector\n",
    "\n",
    "- vectors enable many operations to be performed together when the code is executed, resulting in faster run-times that require less computer memory.\n",
    "\n",
    "- ndarray are mutable, you can changes the values they contain.\n",
    "\n"
   ]
  },
  {
   "cell_type": "code",
   "execution_count": 23,
   "metadata": {},
   "outputs": [
    {
     "data": {
      "text/plain": [
       "array([1, 2, 3, 4])"
      ]
     },
     "execution_count": 23,
     "metadata": {},
     "output_type": "execute_result"
    }
   ],
   "source": [
    "import numpy as np\n",
    "\n",
    "x=np.array([1,2,3,4])\n",
    "\n",
    "x\n"
   ]
  },
  {
   "cell_type": "code",
   "execution_count": 24,
   "metadata": {},
   "outputs": [
    {
     "data": {
      "text/plain": [
       "array([1, 2, 3, 5])"
      ]
     },
     "execution_count": 24,
     "metadata": {},
     "output_type": "execute_result"
    }
   ],
   "source": [
    "x[-1]=5\n",
    "x"
   ]
  },
  {
   "cell_type": "code",
   "execution_count": 26,
   "metadata": {},
   "outputs": [
    {
     "name": "stdout",
     "output_type": "stream",
     "text": [
      "['1' '2' '3' 'change']\n",
      "<class 'numpy.str_'>\n",
      "<class 'numpy.ndarray'>\n"
     ]
    }
   ],
   "source": [
    "arr=np.array([1,2,3,'change'])\n",
    "\n",
    "print(arr)\n",
    "\n",
    "print(type(arr[2]))\n",
    "\n",
    "print(type(arr))"
   ]
  },
  {
   "cell_type": "markdown",
   "metadata": {},
   "source": [
    "**dtype**\n",
    "\n",
    "A NumPy attribute used to check the data type of the contents of an array"
   ]
  },
  {
   "cell_type": "code",
   "execution_count": 27,
   "metadata": {},
   "outputs": [
    {
     "data": {
      "text/plain": [
       "dtype('int64')"
      ]
     },
     "execution_count": 27,
     "metadata": {},
     "output_type": "execute_result"
    }
   ],
   "source": [
    "arr=np.array([1,2,34,])\n",
    "\n",
    "arr.dtype"
   ]
  },
  {
   "cell_type": "code",
   "execution_count": 28,
   "metadata": {},
   "outputs": [
    {
     "data": {
      "text/plain": [
       "(3,)"
      ]
     },
     "execution_count": 28,
     "metadata": {},
     "output_type": "execute_result"
    }
   ],
   "source": [
    "arr.shape"
   ]
  },
  {
   "cell_type": "markdown",
   "metadata": {},
   "source": [
    "**shape**\n",
    "\n",
    "A NumPy attribute used to check the shape of an array"
   ]
  },
  {
   "cell_type": "markdown",
   "metadata": {},
   "source": [
    "**ndim**\n",
    "\n",
    "A NumPy attribute used to check the number of dimensions of an array"
   ]
  },
  {
   "cell_type": "code",
   "execution_count": 29,
   "metadata": {},
   "outputs": [
    {
     "data": {
      "text/plain": [
       "1"
      ]
     },
     "execution_count": 29,
     "metadata": {},
     "output_type": "execute_result"
    }
   ],
   "source": [
    "arr.ndim"
   ]
  },
  {
   "cell_type": "code",
   "execution_count": 32,
   "metadata": {},
   "outputs": [
    {
     "name": "stdout",
     "output_type": "stream",
     "text": [
      "(4, 2)\n",
      "2\n"
     ]
    },
    {
     "data": {
      "text/plain": [
       "array([[1, 2],\n",
       "       [3, 4],\n",
       "       [5, 6],\n",
       "       [7, 8]])"
      ]
     },
     "execution_count": 32,
     "metadata": {},
     "output_type": "execute_result"
    }
   ],
   "source": [
    "arr_2d=np.array([[1,2],[3,4],[5,6],[7,8]])\n",
    "\n",
    "print(arr_2d.shape)\n",
    "\n",
    "print(arr_2d.ndim)\n",
    "\n",
    "arr_2d"
   ]
  },
  {
   "cell_type": "code",
   "execution_count": 35,
   "metadata": {},
   "outputs": [
    {
     "name": "stdout",
     "output_type": "stream",
     "text": [
      "(2, 2, 3)\n",
      "3\n"
     ]
    },
    {
     "data": {
      "text/plain": [
       "array([[[1, 2, 3],\n",
       "        [4, 5, 6]],\n",
       "\n",
       "       [[5, 6, 7],\n",
       "        [7, 8, 9]]])"
      ]
     },
     "execution_count": 35,
     "metadata": {},
     "output_type": "execute_result"
    }
   ],
   "source": [
    "arr_3d=np.array([[[1,2,3],[4,5,6]],[[5,6,7],[7,8,9]]])\n",
    "\n",
    "print(arr_3d.shape)\n",
    "\n",
    "print(arr_3d.ndim)\n",
    "\n",
    "\n",
    "arr_3d"
   ]
  },
  {
   "cell_type": "markdown",
   "metadata": {},
   "source": [
    "`reshape()`\n",
    "\n",
    "NumPy method used to change the shape of an array"
   ]
  },
  {
   "cell_type": "code",
   "execution_count": 37,
   "metadata": {},
   "outputs": [
    {
     "name": "stdout",
     "output_type": "stream",
     "text": [
      "(4, 2)\n",
      "2\n"
     ]
    }
   ],
   "source": [
    "arr_2d=np.array([[1,2],[3,4],[5,6],[7,8]])\n",
    "\n",
    "print(arr_2d.shape)\n",
    "\n",
    "print(arr_2d.ndim)\n"
   ]
  },
  {
   "cell_type": "markdown",
   "metadata": {},
   "source": [
    "4 rows 2 columes **change to** 2 rows 4 columes"
   ]
  },
  {
   "cell_type": "code",
   "execution_count": 39,
   "metadata": {},
   "outputs": [
    {
     "data": {
      "text/plain": [
       "array([[1, 2, 3, 4],\n",
       "       [5, 6, 7, 8]])"
      ]
     },
     "execution_count": 39,
     "metadata": {},
     "output_type": "execute_result"
    }
   ],
   "source": [
    "arr_2d=arr_2d.reshape(2,4)\n",
    "\n",
    "arr_2d"
   ]
  },
  {
   "cell_type": "code",
   "execution_count": 40,
   "metadata": {},
   "outputs": [
    {
     "data": {
      "text/plain": [
       "3.0"
      ]
     },
     "execution_count": 40,
     "metadata": {},
     "output_type": "execute_result"
    }
   ],
   "source": [
    "arr=np.array([1,2,3,4,5])\n",
    "\n",
    "np.mean(arr)"
   ]
  },
  {
   "cell_type": "code",
   "execution_count": 41,
   "metadata": {},
   "outputs": [
    {
     "data": {
      "text/plain": [
       "array([0.        , 0.69314718, 1.09861229, 1.38629436, 1.60943791])"
      ]
     },
     "execution_count": 41,
     "metadata": {},
     "output_type": "execute_result"
    }
   ],
   "source": [
    "np.log(arr)"
   ]
  },
  {
   "cell_type": "code",
   "execution_count": 42,
   "metadata": {},
   "outputs": [
    {
     "data": {
      "text/plain": [
       "5.0"
      ]
     },
     "execution_count": 42,
     "metadata": {},
     "output_type": "execute_result"
    }
   ],
   "source": [
    "np.floor(5.7)"
   ]
  },
  {
   "cell_type": "code",
   "execution_count": 44,
   "metadata": {},
   "outputs": [
    {
     "data": {
      "text/plain": [
       "6.0"
      ]
     },
     "execution_count": 44,
     "metadata": {},
     "output_type": "execute_result"
    }
   ],
   "source": [
    "np.ceil(5.3)"
   ]
  },
  {
   "cell_type": "markdown",
   "metadata": {},
   "source": [
    "### Reference guide: Arrays"
   ]
  },
  {
   "cell_type": "markdown",
   "metadata": {},
   "source": [
    "#### Create an array\n",
    "\n",
    "`np.array`\n",
    "\n",
    "This creat an `ndarray`(n-dimensional array). There is no limit to how many dimensions a NumPy array can have, but arrays with many dimensions can be more difficult to work.\n"
   ]
  },
  {
   "cell_type": "code",
   "execution_count": 45,
   "metadata": {},
   "outputs": [
    {
     "data": {
      "text/plain": [
       "array([1, 2, 3, 4, 5])"
      ]
     },
     "execution_count": 45,
     "metadata": {},
     "output_type": "execute_result"
    }
   ],
   "source": [
    "arr_1d=np.array([1,2,3,4,5])\n",
    "\n",
    "arr_1d"
   ]
  },
  {
   "cell_type": "code",
   "execution_count": 48,
   "metadata": {},
   "outputs": [
    {
     "name": "stdout",
     "output_type": "stream",
     "text": [
      "(2, 3)\n",
      "2\n",
      "[[1 2 3]\n",
      " [1 2 5]]\n"
     ]
    }
   ],
   "source": [
    "arr_2d=np.array(\n",
    "    [[1,2,3],[1,2,5]]\n",
    ")\n",
    "\n",
    "print(arr_2d.shape)\n",
    "\n",
    "print(arr_2d.ndim)\n",
    "\n",
    "print(arr_2d)"
   ]
  },
  {
   "cell_type": "code",
   "execution_count": 50,
   "metadata": {},
   "outputs": [
    {
     "name": "stdout",
     "output_type": "stream",
     "text": [
      "(3, 2, 2)\n",
      "3\n",
      "[[[1 2]\n",
      "  [4 5]]\n",
      "\n",
      " [[2 2]\n",
      "  [2 4]]\n",
      "\n",
      " [[3 3]\n",
      "  [3 5]]]\n"
     ]
    }
   ],
   "source": [
    "arr_3d=np.array([[[1,2],[4,5]\n",
    "                  ],\n",
    "                  [[2,2],[2,4]],\n",
    "                  [[3,3],[3,5]]\n",
    "                  ])\n",
    "\n",
    "print(arr_3d.shape)\n",
    "\n",
    "print(arr_3d.ndim)\n",
    "\n",
    "print(arr_3d)"
   ]
  },
  {
   "cell_type": "markdown",
   "metadata": {},
   "source": [
    "`np.zeros()`\n",
    "\n",
    "- This creates an array of a designed shape that is pre-filled with zeros:\n"
   ]
  },
  {
   "cell_type": "code",
   "execution_count": 52,
   "metadata": {},
   "outputs": [
    {
     "data": {
      "text/plain": [
       "array([[0., 0., 0.],\n",
       "       [0., 0., 0.],\n",
       "       [0., 0., 0.]])"
      ]
     },
     "execution_count": 52,
     "metadata": {},
     "output_type": "execute_result"
    }
   ],
   "source": [
    "np.zeros((3,3))"
   ]
  },
  {
   "cell_type": "markdown",
   "metadata": {},
   "source": [
    "`np.ones()`\n",
    "\n",
    "- This creates an array of a designed shape that is pre-filled with ones:\n"
   ]
  },
  {
   "cell_type": "code",
   "execution_count": 53,
   "metadata": {},
   "outputs": [
    {
     "data": {
      "text/plain": [
       "array([[1., 1.]])"
      ]
     },
     "execution_count": 53,
     "metadata": {},
     "output_type": "execute_result"
    }
   ],
   "source": [
    "np.ones((1,2))"
   ]
  },
  {
   "cell_type": "markdown",
   "metadata": {},
   "source": [
    "`np.fill()`\n",
    "\n",
    "- And this creats an array of designed shape that is pre-filled with a specified value:"
   ]
  },
  {
   "cell_type": "code",
   "execution_count": 54,
   "metadata": {},
   "outputs": [
    {
     "data": {
      "text/plain": [
       "array([[8, 8, 8],\n",
       "       [8, 8, 8],\n",
       "       [8, 8, 8],\n",
       "       [8, 8, 8],\n",
       "       [8, 8, 8]])"
      ]
     },
     "execution_count": 54,
     "metadata": {},
     "output_type": "execute_result"
    }
   ],
   "source": [
    "np.full((5,3),8)"
   ]
  },
  {
   "cell_type": "markdown",
   "metadata": {},
   "source": [
    "These functions are useful for various situations:\n",
    "\n",
    "- To initialize an array of a specific size and shape, then fill it with values derived from a calculation.\n",
    "\n",
    "- To allocate memory fo laser use\n",
    "\n",
    "- To perform matrix operations"
   ]
  },
  {
   "cell_type": "markdown",
   "metadata": {},
   "source": [
    "#### Array methods\n",
    "\n"
   ]
  },
  {
   "cell_type": "markdown",
   "metadata": {},
   "source": [
    "`ndarray.flatten()`\n",
    "\n",
    "- This returns a copy of the array collapsed into one dimension"
   ]
  },
  {
   "cell_type": "code",
   "execution_count": 55,
   "metadata": {},
   "outputs": [
    {
     "name": "stdout",
     "output_type": "stream",
     "text": [
      "[[1 2 3]\n",
      " [4 5 6]]\n",
      "[1 2 3 4 5 6]\n"
     ]
    }
   ],
   "source": [
    "array_2d = np.array([(1, 2, 3), (4, 5, 6)])\n",
    "print(array_2d)\n",
    "print(\n",
    "array_2d.flatten())"
   ]
  },
  {
   "cell_type": "markdown",
   "metadata": {},
   "source": [
    "`ndarray.reshape()`\n",
    "\n",
    "- This given a new shape to an array without changing its data."
   ]
  },
  {
   "cell_type": "code",
   "execution_count": 58,
   "metadata": {},
   "outputs": [
    {
     "name": "stdout",
     "output_type": "stream",
     "text": [
      "[[1 2 3]\n",
      " [4 5 6]]\n",
      "\n",
      "[[1 2]\n",
      " [3 4]\n",
      " [5 6]]\n",
      "2\n"
     ]
    }
   ],
   "source": [
    "array_2d = np.array([(1, 2, 3), (4, 5, 6)])\n",
    "print(array_2d)\n",
    "print()\n",
    "print(array_2d.reshape(3, 2))\n",
    "print(array_2d.ndim)"
   ]
  },
  {
   "cell_type": "markdown",
   "metadata": {},
   "source": [
    "Adding a value of -1 in the designed new shape makes the process more efficient, as it indicates for NumPy to automatically infer the value based on other given values.\n"
   ]
  },
  {
   "cell_type": "code",
   "execution_count": 59,
   "metadata": {},
   "outputs": [
    {
     "name": "stdout",
     "output_type": "stream",
     "text": [
      "[[1 2 3]\n",
      " [4 5 6]]\n",
      "\n"
     ]
    },
    {
     "data": {
      "text/plain": [
       "array([[1, 2],\n",
       "       [3, 4],\n",
       "       [5, 6]])"
      ]
     },
     "execution_count": 59,
     "metadata": {},
     "output_type": "execute_result"
    }
   ],
   "source": [
    "array_2d = np.array([(1, 2, 3), (4, 5, 6)])\n",
    "print(array_2d)\n",
    "print()\n",
    "array_2d.reshape(3, -1)"
   ]
  },
  {
   "cell_type": "markdown",
   "metadata": {},
   "source": [
    "`ndarray.tolist()`\n",
    "\n",
    "- This converts an array to a list object. Multidmensional arrays are convered to nested lists.\n"
   ]
  },
  {
   "cell_type": "code",
   "execution_count": 60,
   "metadata": {},
   "outputs": [
    {
     "name": "stdout",
     "output_type": "stream",
     "text": [
      "[[1 2 3]\n",
      " [4 5 6]]\n",
      "\n"
     ]
    },
    {
     "data": {
      "text/plain": [
       "[[1, 2, 3], [4, 5, 6]]"
      ]
     },
     "execution_count": 60,
     "metadata": {},
     "output_type": "execute_result"
    }
   ],
   "source": [
    "array_2d = np.array([(1, 2, 3), (4, 5, 6)])\n",
    "print(array_2d)\n",
    "print()\n",
    "array_2d.tolist()"
   ]
  },
  {
   "cell_type": "markdown",
   "metadata": {},
   "source": [
    "#### Mathmatical functions\n",
    "NumPy arrays also have many methods that are mathematical functions:\n",
    "\n",
    "- `ndarray.max()`: returns the maximum value in the array or along a specified axis.\n",
    "\n",
    "- `ndarray.mean()`: returns the mean of all the values in the array or along a specified axis.\n",
    "\n",
    "- `ndarray.min()`: returns the minimum value in the array or along a specified axis.\n",
    "\n",
    "- `ndarray.std()`: returns the standard deviation of all the values in the array of along a specified axis.\n",
    "\n"
   ]
  },
  {
   "cell_type": "code",
   "execution_count": 61,
   "metadata": {},
   "outputs": [
    {
     "name": "stdout",
     "output_type": "stream",
     "text": [
      "[[1 2 3]\n",
      " [4 5 6]]\n",
      "\n",
      "6\n",
      "3.5\n",
      "1\n",
      "1.707825127659933\n"
     ]
    }
   ],
   "source": [
    "a = np.array([(1, 2, 3), (4, 5, 6)])\n",
    "print(a)\n",
    "print()\n",
    "\n",
    "print(a.max())\n",
    "print(a.mean())\n",
    "print(a.min())\n",
    "print(a.std())"
   ]
  },
  {
   "cell_type": "markdown",
   "metadata": {},
   "source": [
    "#### Array attributes\n",
    "\n",
    "NumPy arrays have severl attributes that enable you to access information about the array. Some the most commonly used attributes include the following:\n",
    "\n",
    "\n",
    "- `ndarray.shape`: returns a tuple of the array's dimensions\n",
    "\n",
    "- `ndarray,dtype`: returns the data type of the array's contents\n",
    "\n",
    "- `ndarray.size`: returns the total number of elements in the array.\n",
    "\n",
    "- `ndarray.T`: returns the array transposed (rows become columns, columns become rows)."
   ]
  },
  {
   "cell_type": "code",
   "execution_count": 62,
   "metadata": {},
   "outputs": [
    {
     "name": "stdout",
     "output_type": "stream",
     "text": [
      "[[1 2 3]\n",
      " [4 5 6]]\n",
      "\n",
      "(2, 3)\n",
      "int64\n",
      "6\n",
      "[[1 4]\n",
      " [2 5]\n",
      " [3 6]]\n"
     ]
    }
   ],
   "source": [
    "array_2d = np.array([(1, 2, 3), (4, 5, 6)])\n",
    "print(array_2d)\n",
    "print()\n",
    "\n",
    "print(array_2d.shape)\n",
    "print(array_2d.dtype)\n",
    "print(array_2d.size)\n",
    "print(array_2d.T)"
   ]
  },
  {
   "cell_type": "markdown",
   "metadata": {},
   "source": [
    "#### Indexing and slicing"
   ]
  },
  {
   "cell_type": "code",
   "execution_count": 63,
   "metadata": {},
   "outputs": [
    {
     "name": "stdout",
     "output_type": "stream",
     "text": [
      "[[1 2 3]\n",
      " [4 5 6]]\n",
      "\n",
      "[4 5 6]\n",
      "2\n",
      "6\n"
     ]
    }
   ],
   "source": [
    "a = np.array([(1, 2, 3), (4, 5, 6)])\n",
    "print(a)\n",
    "print()\n",
    "\n",
    "print(a[1])\n",
    "print(a[0, 1])\n",
    "print(a[1, 2])"
   ]
  },
  {
   "cell_type": "code",
   "execution_count": 67,
   "metadata": {},
   "outputs": [
    {
     "name": "stdout",
     "output_type": "stream",
     "text": [
      "[[[1 2 3]\n",
      "  [4 5 6]]\n",
      "\n",
      " [[1 2 3]\n",
      "  [4 5 6]]]\n",
      "\n",
      "[1 2 3]\n",
      "6\n"
     ]
    }
   ],
   "source": [
    "a = np.array([[(1, 2, 3), (4, 5, 6)],\n",
    "             [(1, 2, 3), (4, 5, 6)]\n",
    "             ])\n",
    "print(a)\n",
    "print()\n",
    "\n",
    "print(a[1,0])\n",
    "print(a[0, 1,2])\n"
   ]
  },
  {
   "cell_type": "code",
   "execution_count": 68,
   "metadata": {},
   "outputs": [
    {
     "name": "stdout",
     "output_type": "stream",
     "text": [
      "[[1 2 3]\n",
      " [4 5 6]]\n",
      "\n"
     ]
    },
    {
     "data": {
      "text/plain": [
       "array([[2, 3],\n",
       "       [5, 6]])"
      ]
     },
     "execution_count": 68,
     "metadata": {},
     "output_type": "execute_result"
    }
   ],
   "source": [
    "a = np.array([(1, 2, 3), (4, 5, 6)])\n",
    "print(a)\n",
    "print()\n",
    "\n",
    "a[:, 1:]"
   ]
  },
  {
   "cell_type": "markdown",
   "metadata": {},
   "source": [
    "#### Array operations"
   ]
  },
  {
   "cell_type": "code",
   "execution_count": 69,
   "metadata": {},
   "outputs": [
    {
     "name": "stdout",
     "output_type": "stream",
     "text": [
      "a:\n",
      "[[1 2 3]\n",
      " [4 5 6]]\n",
      "\n",
      "b:\n",
      "[[1 2 3]\n",
      " [1 2 3]]\n",
      "\n",
      "a + b:\n",
      "[[2 4 6]\n",
      " [5 7 9]]\n",
      "\n",
      "a * b:\n",
      "[[ 1  4  9]\n",
      " [ 4 10 18]]\n"
     ]
    }
   ],
   "source": [
    "a = np.array([(1, 2, 3), (4, 5, 6)])\n",
    "b = np.array([[1, 2, 3], [1, 2, 3]])\n",
    "print('a:')\n",
    "print(a)\n",
    "print()\n",
    "print('b:')\n",
    "print(b)\n",
    "print()\n",
    "print('a + b:')\n",
    "print(a + b)\n",
    "print()\n",
    "print('a * b:')\n",
    "print(a * b)"
   ]
  },
  {
   "cell_type": "markdown",
   "metadata": {},
   "source": [
    "#### Mutability"
   ]
  },
  {
   "cell_type": "code",
   "execution_count": 70,
   "metadata": {},
   "outputs": [
    {
     "name": "stdout",
     "output_type": "stream",
     "text": [
      "[[1 2]\n",
      " [3 4]]\n",
      "\n"
     ]
    },
    {
     "data": {
      "text/plain": [
       "array([[  1,   2],\n",
       "       [  3, 100]])"
      ]
     },
     "execution_count": 70,
     "metadata": {},
     "output_type": "execute_result"
    }
   ],
   "source": [
    "a = np.array([(1, 2), (3, 4)])\n",
    "print(a)\n",
    "print()\n",
    "\n",
    "a[1][1] = 100\n",
    "a"
   ]
  },
  {
   "cell_type": "code",
   "execution_count": 71,
   "metadata": {},
   "outputs": [
    {
     "name": "stdout",
     "output_type": "stream",
     "text": [
      "[1 2 3]\n",
      "\n"
     ]
    },
    {
     "ename": "IndexError",
     "evalue": "index 3 is out of bounds for axis 0 with size 3",
     "output_type": "error",
     "traceback": [
      "\u001b[0;31m---------------------------------------------------------------------------\u001b[0m",
      "\u001b[0;31mIndexError\u001b[0m                                Traceback (most recent call last)",
      "\u001b[0;32m/var/folders/vx/5ffy5rvd0x37v0_21q4wrrzm0000gn/T/ipykernel_51634/2592301194.py\u001b[0m in \u001b[0;36m<module>\u001b[0;34m\u001b[0m\n\u001b[1;32m      3\u001b[0m \u001b[0mprint\u001b[0m\u001b[0;34m(\u001b[0m\u001b[0;34m)\u001b[0m\u001b[0;34m\u001b[0m\u001b[0;34m\u001b[0m\u001b[0m\n\u001b[1;32m      4\u001b[0m \u001b[0;34m\u001b[0m\u001b[0m\n\u001b[0;32m----> 5\u001b[0;31m \u001b[0ma\u001b[0m\u001b[0;34m[\u001b[0m\u001b[0;36m3\u001b[0m\u001b[0;34m]\u001b[0m \u001b[0;34m=\u001b[0m \u001b[0;36m100\u001b[0m\u001b[0;34m\u001b[0m\u001b[0;34m\u001b[0m\u001b[0m\n\u001b[0m\u001b[1;32m      6\u001b[0m \u001b[0ma\u001b[0m\u001b[0;34m\u001b[0m\u001b[0;34m\u001b[0m\u001b[0m\n",
      "\u001b[0;31mIndexError\u001b[0m: index 3 is out of bounds for axis 0 with size 3"
     ]
    }
   ],
   "source": [
    "a = np.array([1, 2, 3])\n",
    "print(a)\n",
    "print()\n",
    "\n",
    "a[3] = 100\n",
    "a"
   ]
  },
  {
   "cell_type": "code",
   "execution_count": null,
   "metadata": {},
   "outputs": [],
   "source": []
  }
 ],
 "metadata": {
  "kernelspec": {
   "display_name": "Python 3",
   "language": "python",
   "name": "python3"
  },
  "language_info": {
   "codemirror_mode": {
    "name": "ipython",
    "version": 3
   },
   "file_extension": ".py",
   "mimetype": "text/x-python",
   "name": "python",
   "nbconvert_exporter": "python",
   "pygments_lexer": "ipython3",
   "version": "3.9.13"
  }
 },
 "nbformat": 4,
 "nbformat_minor": 2
}
