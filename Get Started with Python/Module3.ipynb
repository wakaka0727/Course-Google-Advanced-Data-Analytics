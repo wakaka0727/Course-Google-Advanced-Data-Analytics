{
 "cells": [
  {
   "cell_type": "markdown",
   "metadata": {},
   "source": [
    "# Module 3: Loops and Strings\n",
    "\n",
    "#### What you'll learn\n",
    "- Loops\n",
    "- Strings\n",
    "\n"
   ]
  },
  {
   "cell_type": "markdown",
   "metadata": {},
   "source": [
    "## Introduction to while loops\n",
    "#### Loop\n",
    "A block of code used to carry out iterations\n",
    "#### lteration\n",
    "The repeated execution of a set of statements where one iteration is the single execution of a block of code\n",
    "#### Iterable\n",
    "An object that's looped, or iterated, over\n"
   ]
  },
  {
   "cell_type": "markdown",
   "metadata": {},
   "source": [
    "**while** loop\n",
    "\n",
    "A loop that instructs your computer to continuously execute your code based on the value of condition\n",
    "\n",
    "**break**\n",
    "\n",
    "A keyword that lets you escape a loop without trigering and ELSE statement that follows it in the loop\n"
   ]
  },
  {
   "cell_type": "code",
   "execution_count": 2,
   "metadata": {},
   "outputs": [
    {
     "name": "stdout",
     "output_type": "stream",
     "text": [
      "Not there yet, x= 0\n",
      "Not there yet, x= 1\n",
      "Not there yet, x= 2\n",
      "Not there yet, x= 3\n",
      "Not there yet, x= 4\n",
      "x = 5\n"
     ]
    }
   ],
   "source": [
    "x=0\n",
    "while x<5:\n",
    "    print('Not there yet, x= '+ str(x))\n",
    "    x = x+1\n",
    "\n",
    "print('x = '+ str(x))"
   ]
  },
  {
   "cell_type": "code",
   "execution_count": 4,
   "metadata": {},
   "outputs": [
    {
     "name": "stdout",
     "output_type": "stream",
     "text": [
      "Guess a number between 1 and 25\n",
      "Nope! Try again. \n",
      "Guess a number between 1 and 25\n",
      "Nope! Try again. \n",
      "Guess a number between 1 and 25\n",
      "Nope! Try again. \n",
      "Guess a number between 1 and 25\n",
      "Nope! Try again. \n",
      "Guess a number between 1 and 25\n",
      "You did not guess the number. The number was 10.\n"
     ]
    }
   ],
   "source": [
    "'''\n",
    "Example:\n",
    "generates a random number and gives user 5 chances to guess it.\n",
    "'''\n",
    "\n",
    "import random\n",
    "# random int function: randint\n",
    "# the value is a random number between 1 and 25\n",
    "number = random.randint(1,25)\n",
    "number_of_guesses = 0\n",
    "\n",
    "while number_of_guesses <5:\n",
    "    print('Guess a number between 1 and 25')\n",
    "    guess = input()\n",
    "    guess = int(guess)\n",
    "     #number_of_guesses = number_of_guesses+1\n",
    "    number_of_guesses += 1\n",
    "\n",
    "    if guess == number:\n",
    "        break\n",
    "    elif number_of_guesses == 5:\n",
    "        break\n",
    "    else:\n",
    "        print('Nope! Try again. ')\n",
    "\n",
    "if guess == number:\n",
    "    print('Correct! You guessed the number in '+ str(number_of_guesses)+'tries!')\n",
    "else:\n",
    "    print('You did not guess the number. The number was '+ str(number)+'.')\n",
    "\n"
   ]
  },
  {
   "cell_type": "markdown",
   "metadata": {},
   "source": [
    "## Introduction to for loops"
   ]
  },
  {
   "cell_type": "markdown",
   "metadata": {},
   "source": [
    "**for** loop\n",
    "\n",
    "A piece of code that iterates over a sequence of value\n",
    "\n",
    "**range()**\n",
    "\n",
    "A python function that returns a sequence of numbers staring from zero, increments by 1 by default, and stops before the given number.\n",
    "\n",
    "**Range function**\n",
    "\n",
    "1. A range of numbers will start with the value 0 by default\n",
    "2. The list of numbers generated will be one less than the given value\n",
    "\n"
   ]
  },
  {
   "cell_type": "code",
   "execution_count": 1,
   "metadata": {},
   "outputs": [
    {
     "name": "stdout",
     "output_type": "stream",
     "text": [
      "0\n",
      "1\n",
      "2\n",
      "3\n",
      "4\n"
     ]
    }
   ],
   "source": [
    "for x in range (5):\n",
    "    print(x)"
   ]
  },
  {
   "cell_type": "code",
   "execution_count": 5,
   "metadata": {},
   "outputs": [
    {
     "name": "stdout",
     "output_type": "stream",
     "text": [
      "# Get started with Python\n",
      "\n",
      "# Week 1 - video 7 of 10\n",
      "\n",
      "# Input/Output: Data comes from different places\n",
      "\n",
      "\n",
      "\n",
      "#import this\n",
      "\n",
      "The Zen of Python, by Tim Peters\n",
      "\n",
      "\n",
      "\n",
      "Beautiful is better than ugly.\n",
      "\n",
      "Explicit is better than implicit.\n",
      "\n",
      "Simple is better than complex.\n",
      "\n",
      "Complex is better than complicated.\n",
      "\n",
      "Flat is better than nested.\n",
      "\n",
      "Sparse is better than dense.\n",
      "\n",
      "Readability counts.\n",
      "\n",
      "Special cases aren't special enough to break the rules.\n",
      "\n",
      "Although practicality beats purity.\n",
      "\n",
      "Errors should never pass silently.\n",
      "\n",
      "Unless explicitly silenced.\n",
      "\n",
      "In the face of ambiguity, refuse the temptation to guess.\n",
      "\n",
      "There should be one-- and preferably only one --obvious way to do it.\n",
      "\n",
      "Although that way may not be obvious at first unless you're Dutch.\n",
      "\n",
      "Now is better than never.\n",
      "\n",
      "Although never is often better than *right* now.\n",
      "\n",
      "If the implementation is hard to explain, it's a bad idea.\n",
      "\n",
      "If the implementation is easy to explain, it may be a good idea.\n",
      "\n",
      "Namespaces are one honking great idea -- let's do more of those!\n",
      " \n",
      "I'm done.\n"
     ]
    }
   ],
   "source": [
    "with open ('/Users/guomingrui/Downloads/zen_of_python.txt' ) as f:\n",
    "    for line in f:\n",
    "        print(line)\n",
    "    print(' \\nI\\'m done.')"
   ]
  },
  {
   "cell_type": "markdown",
   "metadata": {},
   "source": [
    "### Example\n",
    "Magali doesn't want Fido to eat too many treats, so she only gives him five treats per day. Fido wags his tail each time he gets treat. Once he has all five, he stops wagging his tail."
   ]
  },
  {
   "cell_type": "code",
   "execution_count": 10,
   "metadata": {},
   "outputs": [
    {
     "name": "stdout",
     "output_type": "stream",
     "text": [
      "The 0st!\n",
      "The 1st!\n",
      "The 2st!\n",
      "The 3st!\n",
      "The 4st!\n"
     ]
    }
   ],
   "source": [
    "for eat in range(5):\n",
    "    print('The '+str(eat)+'st!')"
   ]
  },
  {
   "cell_type": "markdown",
   "metadata": {},
   "source": [
    "## Loops with multip"
   ]
  },
  {
   "cell_type": "markdown",
   "metadata": {},
   "source": [
    "**Parameters of the range function**\n",
    "- Start Value\n",
    "- Stop Value\n",
    "- Step Value\n"
   ]
  },
  {
   "cell_type": "code",
   "execution_count": 12,
   "metadata": {},
   "outputs": [
    {
     "name": "stdout",
     "output_type": "stream",
     "text": [
      "1\n",
      "2\n",
      "6\n",
      "24\n",
      "120\n",
      "720\n",
      "5040\n",
      "40320\n",
      "362880\n",
      "362880\n"
     ]
    }
   ],
   "source": [
    "product = 1 \n",
    "for n in range(1,10):\n",
    "    product = product *n\n",
    "    print(product)\n",
    "\n",
    "print(product)"
   ]
  },
  {
   "cell_type": "code",
   "execution_count": 14,
   "metadata": {},
   "outputs": [
    {
     "name": "stdout",
     "output_type": "stream",
     "text": [
      "0 -17.77777777777778\n",
      "10 -12.222222222222221\n",
      "20 -6.666666666666667\n",
      "30 -1.1111111111111112\n",
      "40 4.444444444444445\n",
      "50 10.0\n",
      "60 15.555555555555555\n",
      "70 21.11111111111111\n",
      "80 26.666666666666668\n",
      "90 32.22222222222222\n",
      "100 37.77777777777778\n"
     ]
    }
   ],
   "source": [
    "def to_celsius(x):\n",
    "    return (x-32)* 5 / 9\n",
    "\n",
    "for x in range (0,101,10):\n",
    "    print(x, to_celsius(x))"
   ]
  },
  {
   "cell_type": "markdown",
   "metadata": {},
   "source": [
    "Use **for loops** when there's a sequence of elements that you want to iterate over.\n",
    "\n",
    "Use **while loops** when you want to repeat an action until a boolean condition changes.\n",
    "\n",
    "Booleans are a data type that represents one of two possible states: **True** or **False**."
   ]
  },
  {
   "cell_type": "markdown",
   "metadata": {},
   "source": [
    "## Work with strings\n"
   ]
  },
  {
   "cell_type": "markdown",
   "metadata": {},
   "source": [
    "**Concatenate**\n",
    "\n",
    "To link or join together\n",
    "\n",
    "**Escape character**\n",
    "A character that changes the typical behavior of the characters that follow it\n"
   ]
  },
  {
   "cell_type": "code",
   "execution_count": 16,
   "metadata": {},
   "outputs": [
    {
     "name": "stdout",
     "output_type": "stream",
     "text": [
      "\"It's a dangerous to go alone!\"\n"
     ]
    }
   ],
   "source": [
    "quote=\"\\\"It's a dangerous to go alone!\\\"\"\n",
    "print(quote)"
   ]
  },
  {
   "cell_type": "code",
   "execution_count": 19,
   "metadata": {},
   "outputs": [
    {
     "name": "stdout",
     "output_type": "stream",
     "text": [
      "GOOD DAY, \n",
      "SIR.\n"
     ]
    }
   ],
   "source": [
    "greetings= \"GOOD DAY, \\nSIR.\"\n",
    "print(greetings)"
   ]
  },
  {
   "cell_type": "code",
   "execution_count": 20,
   "metadata": {},
   "outputs": [
    {
     "name": "stdout",
     "output_type": "stream",
     "text": [
      "\\n represent a newlin in Python\n"
     ]
    }
   ],
   "source": [
    "newline='\\\\n represent a newlin in Python'\n",
    "print(newline)"
   ]
  },
  {
   "cell_type": "code",
   "execution_count": 21,
   "metadata": {},
   "outputs": [
    {
     "name": "stdout",
     "output_type": "stream",
     "text": [
      "Put\n",
      "yut\n",
      "tut\n",
      "hut\n",
      "out\n",
      "nut\n"
     ]
    }
   ],
   "source": [
    "python= 'Python'\n",
    "for letter in python:\n",
    "    print(letter+'ut')"
   ]
  },
  {
   "cell_type": "markdown",
   "metadata": {},
   "source": [
    "## String slicing"
   ]
  },
  {
   "cell_type": "markdown",
   "metadata": {},
   "source": [
    "**Indexing**\n",
    "\n",
    "A way to refer to the individual items within an iterable by their relative position\n",
    "\n",
    "**Indexing can be used**\n",
    "- strings\n",
    "- lists\n",
    "- tuples\n",
    "- most other iterable data types\n",
    "\n",
    "**index()**\n",
    "A string method that outputs the index number of a character in a string\n",
    "\n"
   ]
  },
  {
   "cell_type": "code",
   "execution_count": 23,
   "metadata": {},
   "outputs": [
    {
     "data": {
      "text/plain": [
       "3"
      ]
     },
     "execution_count": 23,
     "metadata": {},
     "output_type": "execute_result"
    }
   ],
   "source": [
    "pets= 'cats and dogs'\n",
    "pets.index('s') #just return the first matches"
   ]
  },
  {
   "cell_type": "code",
   "execution_count": 24,
   "metadata": {},
   "outputs": [
    {
     "ename": "ValueError",
     "evalue": "substring not found",
     "output_type": "error",
     "traceback": [
      "\u001b[0;31m---------------------------------------------------------------------------\u001b[0m",
      "\u001b[0;31mValueError\u001b[0m                                Traceback (most recent call last)",
      "\u001b[0;32m/var/folders/vx/5ffy5rvd0x37v0_21q4wrrzm0000gn/T/ipykernel_9462/2046530009.py\u001b[0m in \u001b[0;36m<module>\u001b[0;34m\u001b[0m\n\u001b[0;32m----> 1\u001b[0;31m \u001b[0mpets\u001b[0m\u001b[0;34m.\u001b[0m\u001b[0mindex\u001b[0m\u001b[0;34m(\u001b[0m\u001b[0;34m'z'\u001b[0m\u001b[0;34m)\u001b[0m\u001b[0;34m\u001b[0m\u001b[0;34m\u001b[0m\u001b[0m\n\u001b[0m",
      "\u001b[0;31mValueError\u001b[0m: substring not found"
     ]
    }
   ],
   "source": [
    "pets.index('z')"
   ]
  },
  {
   "cell_type": "code",
   "execution_count": 26,
   "metadata": {},
   "outputs": [
    {
     "data": {
      "text/plain": [
       "'o'"
      ]
     },
     "execution_count": 26,
     "metadata": {},
     "output_type": "execute_result"
    }
   ],
   "source": [
    "name='Jolene'\n",
    "name[1]"
   ]
  },
  {
   "cell_type": "code",
   "execution_count": 28,
   "metadata": {},
   "outputs": [
    {
     "data": {
      "text/plain": [
       "','"
      ]
     },
     "execution_count": 28,
     "metadata": {},
     "output_type": "execute_result"
    }
   ],
   "source": [
    "sentence='A man, A plan, A canal, Panama'\n",
    "sentence[-8]"
   ]
  },
  {
   "cell_type": "markdown",
   "metadata": {},
   "source": [
    "**String slice**\n",
    "\n",
    "A portion of a string, also known as a substring, that can contain more than one character.\n"
   ]
  },
  {
   "cell_type": "code",
   "execution_count": 29,
   "metadata": {},
   "outputs": [
    {
     "data": {
      "text/plain": [
       "'ran'"
      ]
     },
     "execution_count": 29,
     "metadata": {},
     "output_type": "execute_result"
    }
   ],
   "source": [
    "color='orange'\n",
    "color[1:4]"
   ]
  },
  {
   "cell_type": "code",
   "execution_count": 30,
   "metadata": {},
   "outputs": [
    {
     "data": {
      "text/plain": [
       "'pine'"
      ]
     },
     "execution_count": 30,
     "metadata": {},
     "output_type": "execute_result"
    }
   ],
   "source": [
    "fruit='pineapple'\n",
    "fruit[:4]"
   ]
  },
  {
   "cell_type": "markdown",
   "metadata": {},
   "source": [
    "To check whether or not a substring is contained in a string, use the keyword **in**"
   ]
  },
  {
   "cell_type": "code",
   "execution_count": 31,
   "metadata": {},
   "outputs": [
    {
     "data": {
      "text/plain": [
       "False"
      ]
     },
     "execution_count": 31,
     "metadata": {},
     "output_type": "execute_result"
    }
   ],
   "source": [
    "'banana' in fruit"
   ]
  },
  {
   "cell_type": "code",
   "execution_count": 32,
   "metadata": {},
   "outputs": [
    {
     "data": {
      "text/plain": [
       "True"
      ]
     },
     "execution_count": 32,
     "metadata": {},
     "output_type": "execute_result"
    }
   ],
   "source": [
    "'apple' in fruit"
   ]
  },
  {
   "cell_type": "code",
   "execution_count": 33,
   "metadata": {},
   "outputs": [
    {
     "data": {
      "text/plain": [
       "True"
      ]
     },
     "execution_count": 33,
     "metadata": {},
     "output_type": "execute_result"
    }
   ],
   "source": [
    "'pineapple' in fruit"
   ]
  },
  {
   "cell_type": "code",
   "execution_count": 34,
   "metadata": {},
   "outputs": [
    {
     "name": "stdout",
     "output_type": "stream",
     "text": [
      "M\n",
      "banana\n",
      "banana\n"
     ]
    }
   ],
   "source": [
    "my_string='Mississippi half-step'\n",
    "print(my_string[0])\n",
    "\n",
    "my_list=[1, 'apple', 'banana']\n",
    "print(my_list[2])\n",
    "print(my_list[-1])"
   ]
  },
  {
   "cell_type": "code",
   "execution_count": 36,
   "metadata": {},
   "outputs": [
    {
     "name": "stdout",
     "output_type": "stream",
     "text": [
      " for the fjords\n"
     ]
    }
   ],
   "source": [
    "my_string='pining for the fjords'\n",
    "print(my_string[6:100])"
   ]
  },
  {
   "cell_type": "markdown",
   "metadata": {},
   "source": [
    "## Format string"
   ]
  },
  {
   "cell_type": "markdown",
   "metadata": {},
   "source": [
    "**format()**\n",
    "\n",
    "Formats and inserts specific substrings into designated places"
   ]
  },
  {
   "cell_type": "code",
   "execution_count": 40,
   "metadata": {},
   "outputs": [
    {
     "name": "stdout",
     "output_type": "stream",
     "text": [
      "HELLO Manuel, you lucky number is 3\n"
     ]
    }
   ],
   "source": [
    "name='Manuel'\n",
    "number=3\n",
    "print('HELLO {}, you lucky number is {}'.format(name,number))"
   ]
  },
  {
   "cell_type": "code",
   "execution_count": 41,
   "metadata": {},
   "outputs": [
    {
     "name": "stdout",
     "output_type": "stream",
     "text": [
      "Hello Manuel, your lucky number is 3.\n"
     ]
    }
   ],
   "source": [
    "print('Hello {1}, your lucky number is {0}.'.format(number,name))"
   ]
  },
  {
   "cell_type": "code",
   "execution_count": 44,
   "metadata": {},
   "outputs": [
    {
     "name": "stdout",
     "output_type": "stream",
     "text": [
      "Base price: $7.75 USD. \n",
      "with tax: $8.2925 USD.\n"
     ]
    }
   ],
   "source": [
    "price=7.75\n",
    "with_tax=price*1.07\n",
    "print('Base price: ${} USD. \\nwith tax: ${} USD.'.format(price,with_tax))"
   ]
  },
  {
   "cell_type": "code",
   "execution_count": 47,
   "metadata": {},
   "outputs": [
    {
     "name": "stdout",
     "output_type": "stream",
     "text": [
      "Base price: $7.75 USD. \n",
      "with tax: $8.29 USD.\n"
     ]
    }
   ],
   "source": [
    "print('Base price: ${:.2f} USD. \\nwith tax: ${:.2f} USD.'.format(price,with_tax))\n",
    "# after the colon, write dot 2f,\n",
    "# '.2'refers 2 places beyond the decimal, and f stands for float"
   ]
  },
  {
   "cell_type": "code",
   "execution_count": 50,
   "metadata": {},
   "outputs": [
    {
     "name": "stdout",
     "output_type": "stream",
     "text": [
      "     0F |     -17.78C\n",
      "    10F |     -12.22C\n",
      "    20F |      -6.67C\n",
      "    30F |      -1.11C\n",
      "    40F |       4.44C\n",
      "    50F |      10.00C\n",
      "    60F |      15.56C\n",
      "    70F |      21.11C\n",
      "    80F |      26.67C\n",
      "    90F |      32.22C\n",
      "   100F |      37.78C\n"
     ]
    }
   ],
   "source": [
    "def to_celsius(x):\n",
    "    return (x -32)* 5/9\n",
    "\n",
    "for x in range(0,101,10):\n",
    "    print(\"{:>6}F | {:>10.2f}C\".format(x,to_celsius(x)))\n",
    "    #:>6,6 spaces in right"
   ]
  },
  {
   "cell_type": "code",
   "execution_count": 55,
   "metadata": {},
   "outputs": [
    {
     "name": "stdout",
     "output_type": "stream",
     "text": [
      "1.001e+03\n",
      "24.9786%\n"
     ]
    }
   ],
   "source": [
    "num= 1000.987123\n",
    "print(f'{num:.3e}')\n",
    "\n",
    "decimal = 0.2497856\n",
    "print(f'{decimal:.4%}')"
   ]
  },
  {
   "cell_type": "markdown",
   "metadata": {},
   "source": [
    "#### Literal string interpolation (f-strings)\n",
    "Another string formatting technique that you’ll often encounter when using Python version 3.6+ is literal string interpolation, also known as f-strings. F-strings further minimize the syntax required to embed expressions into strings. They’re called f-strings because the expressions always begin with f (or F—they’re the same). "
   ]
  },
  {
   "cell_type": "code",
   "execution_count": 59,
   "metadata": {},
   "outputs": [
    {
     "name": "stdout",
     "output_type": "stream",
     "text": [
      "1 + 2\n",
      "3\n",
      "var_a = 1 \n",
      "var_b = 2\n"
     ]
    }
   ],
   "source": [
    "var_a = 1\n",
    "var_b = 2\n",
    "print('{0} + {1}'.format(var_a,var_b))\n",
    "print(f'{var_a + var_b}')\n",
    "print(f'var_a = {var_a} \\nvar_b = {var_b}')"
   ]
  },
  {
   "cell_type": "markdown",
   "metadata": {},
   "source": [
    "To use these options, build your expression within braces as follows.\n",
    "The float variable is what’s being formatted\n",
    "\n",
    "A colon (:) separates what’s being formatted from the syntax used to format it\n",
    "\n",
    ". number indicates the desired precision\n",
    "\n",
    "A letter indicates the presentation type\n",
    "\n",
    "A syntax model depicting the components enumerated in this section of the reading."
   ]
  },
  {
   "cell_type": "code",
   "execution_count": 60,
   "metadata": {},
   "outputs": [
    {
     "data": {
      "text/plain": [
       "'1000.99'"
      ]
     },
     "execution_count": 60,
     "metadata": {},
     "output_type": "execute_result"
    }
   ],
   "source": [
    "num = 1000.987123\n",
    "f'{num:.2f}'"
   ]
  },
  {
   "cell_type": "markdown",
   "metadata": {},
   "source": [
    "'e':Scientific notation. \n",
    "\n",
    "'f':Fixed-point notation. For a given precision p, formats the number as a decimal number with exactly p digits following the decimal point. \n",
    "\n",
    "'%':Percentage. Multiplies the number by 100 and displays in fixed ('f') format, followed by a percent sign."
   ]
  },
  {
   "cell_type": "markdown",
   "metadata": {},
   "source": [
    "#### String methods\n",
    "\n",
    "**str.count(sub[, start[, end]])**\n",
    "\n",
    "Return the number of non-overlapping occurrences of substring sub in the range [start , end]."
   ]
  },
  {
   "cell_type": "code",
   "execution_count": 63,
   "metadata": {},
   "outputs": [
    {
     "name": "stdout",
     "output_type": "stream",
     "text": [
      "0\n",
      "1\n"
     ]
    }
   ],
   "source": [
    "my_string ='Happy birthday'\n",
    "\n",
    "print(my_string.count('m'))\n",
    "print(my_string.count('y',2,7))"
   ]
  },
  {
   "cell_type": "markdown",
   "metadata": {},
   "source": [
    "**str.find(sub)**\n",
    "\n",
    "Return the lowest index in the string where substring **sub** is found. Return -1 if **sub** is not found"
   ]
  },
  {
   "cell_type": "code",
   "execution_count": 66,
   "metadata": {},
   "outputs": [
    {
     "data": {
      "text/plain": [
       "7"
      ]
     },
     "execution_count": 66,
     "metadata": {},
     "output_type": "execute_result"
    }
   ],
   "source": [
    "my_string='Happy Birthday'\n",
    "\n",
    "my_string.find('irth')"
   ]
  },
  {
   "cell_type": "markdown",
   "metadata": {},
   "source": [
    "**str.join()**\n",
    "\n",
    "Return a string which is the concatenation of the strings in iterable. The separator between elements is the string providing this method.\n"
   ]
  },
  {
   "cell_type": "code",
   "execution_count": 68,
   "metadata": {},
   "outputs": [
    {
     "data": {
      "text/plain": [
       "'Happy Birthday to you!'"
      ]
     },
     "execution_count": 68,
     "metadata": {},
     "output_type": "execute_result"
    }
   ],
   "source": [
    "separator_string=''\n",
    "iterable_of_strings =['Happy ','Birthday ','to ','you!']\n",
    "\n",
    "separator_string.join(iterable_of_strings)"
   ]
  },
  {
   "cell_type": "markdown",
   "metadata": {},
   "source": [
    "**str.partition(sep)**\n",
    "\n",
    "Split the string at the first occurrence of sep , and return a 3-tuple containing the part before the separator, the separator itself, and the part after the separator. If the separator is not found, return a 3-tuple containing the string itself, followed by two empty strings."
   ]
  },
  {
   "cell_type": "code",
   "execution_count": 72,
   "metadata": {},
   "outputs": [
    {
     "data": {
      "text/plain": [
       "('https://www.', 'g', 'oogle.com/')"
      ]
     },
     "execution_count": 72,
     "metadata": {},
     "output_type": "execute_result"
    }
   ],
   "source": [
    "my_string='https://www.google.com/'\n",
    "\n",
    "my_string.partition('g')"
   ]
  },
  {
   "cell_type": "markdown",
   "metadata": {},
   "source": [
    "**str.replace(old,new[,count])**\n",
    "\n",
    "Return a copy of the string with all occurrences of substring old replaced by new. If the optional argument count is given, only the first count occurrences are replaced."
   ]
  },
  {
   "cell_type": "code",
   "execution_count": 73,
   "metadata": {},
   "outputs": [
    {
     "data": {
      "text/plain": [
       "'https://www.youtube.com/'"
      ]
     },
     "execution_count": 73,
     "metadata": {},
     "output_type": "execute_result"
    }
   ],
   "source": [
    "my_string='https://www.google.com/'\n",
    "\n",
    "my_string.replace('google','youtube')"
   ]
  },
  {
   "cell_type": "markdown",
   "metadata": {},
   "source": [
    "**str.split([sep])**\n",
    "\n",
    "Return a list of the words in the string, using sep (optional) as the delimiter string. If no sep is given, whitespace characters are used as the delimiter. Any number of consecutive whitespaces would indicate a split point, so ' ' (a single whitespace) would split the same way as '   ' (two or more whitespaces)."
   ]
  },
  {
   "cell_type": "markdown",
   "metadata": {},
   "source": []
  },
  {
   "cell_type": "code",
   "execution_count": 77,
   "metadata": {},
   "outputs": [
    {
     "data": {
      "text/plain": [
       "['D', ' y', 'u kn', 'w the muffin man?']"
      ]
     },
     "execution_count": 77,
     "metadata": {},
     "output_type": "execute_result"
    }
   ],
   "source": [
    "my_string ='Do you know the muffin man?'\n",
    "\n",
    "\n",
    "my_string.split('o')"
   ]
  },
  {
   "cell_type": "code",
   "execution_count": 78,
   "metadata": {},
   "outputs": [
    {
     "ename": "NameError",
     "evalue": "name 'string' is not defined",
     "output_type": "error",
     "traceback": [
      "\u001b[0;31m---------------------------------------------------------------------------\u001b[0m",
      "\u001b[0;31mNameError\u001b[0m                                 Traceback (most recent call last)",
      "\u001b[0;32m/var/folders/vx/5ffy5rvd0x37v0_21q4wrrzm0000gn/T/ipykernel_9462/2485928239.py\u001b[0m in \u001b[0;36m<module>\u001b[0;34m\u001b[0m\n\u001b[1;32m      3\u001b[0m \u001b[0mpattern\u001b[0m \u001b[0;34m=\u001b[0m \u001b[0;34m'regex_pattern'\u001b[0m\u001b[0;34m\u001b[0m\u001b[0;34m\u001b[0m\u001b[0m\n\u001b[1;32m      4\u001b[0m \u001b[0;34m\u001b[0m\u001b[0m\n\u001b[0;32m----> 5\u001b[0;31m \u001b[0mmatch\u001b[0m \u001b[0;34m=\u001b[0m \u001b[0mre\u001b[0m\u001b[0;34m.\u001b[0m\u001b[0msearch\u001b[0m\u001b[0;34m(\u001b[0m\u001b[0mpattern\u001b[0m\u001b[0;34m,\u001b[0m \u001b[0mstring\u001b[0m\u001b[0;34m)\u001b[0m\u001b[0;34m\u001b[0m\u001b[0;34m\u001b[0m\u001b[0m\n\u001b[0m",
      "\u001b[0;31mNameError\u001b[0m: name 'string' is not defined"
     ]
    }
   ],
   "source": [
    "import re\n",
    "\n",
    "pattern = 'regex_pattern'\n",
    "\n",
    "match = re.search(pattern, string)"
   ]
  },
  {
   "cell_type": "code",
   "execution_count": 79,
   "metadata": {},
   "outputs": [
    {
     "data": {
      "text/plain": [
       "<re.Match object; span=(18, 22), match='wall'>"
      ]
     },
     "execution_count": 79,
     "metadata": {},
     "output_type": "execute_result"
    }
   ],
   "source": [
    "import re\n",
    "\n",
    "my_string = 'Three sad tigers swallowed wheat in a wheat field'\n",
    "\n",
    "re.search('wall', my_string)"
   ]
  },
  {
   "cell_type": "code",
   "execution_count": 80,
   "metadata": {},
   "outputs": [
    {
     "data": {
      "text/plain": [
       "<re.Match object; span=(6, 9), match='sad'>"
      ]
     },
     "execution_count": 80,
     "metadata": {},
     "output_type": "execute_result"
    }
   ],
   "source": [
    "import re\n",
    "\n",
    "my_string = 'Three sad tigers swallowed wheat in a wheat field'\n",
    "\n",
    "re.search('[bms]ad', my_string)"
   ]
  },
  {
   "cell_type": "markdown",
   "metadata": {},
   "source": [
    "#### 字符串方法文档\n",
    "https://docs.python.org/2/library/stdtypes.html#string-methods"
   ]
  },
  {
   "cell_type": "markdown",
   "metadata": {},
   "source": []
  }
 ],
 "metadata": {
  "kernelspec": {
   "display_name": "Python 3",
   "language": "python",
   "name": "python3"
  },
  "language_info": {
   "codemirror_mode": {
    "name": "ipython",
    "version": 3
   },
   "file_extension": ".py",
   "mimetype": "text/x-python",
   "name": "python",
   "nbconvert_exporter": "python",
   "pygments_lexer": "ipython3",
   "version": "3.7.9"
  }
 },
 "nbformat": 4,
 "nbformat_minor": 2
}
